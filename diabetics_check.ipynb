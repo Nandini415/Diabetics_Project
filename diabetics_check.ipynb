{
 "cells": [
  {
   "cell_type": "code",
   "execution_count": 212,
   "id": "1787f644",
   "metadata": {},
   "outputs": [],
   "source": [
    "import pandas as pd\n",
    "import numpy as np\n",
    "import matplotlib.pyplot as plt\n",
    "import scipy.stats as stats\n",
    "from scipy.stats import norm\n",
    "import seaborn as sns"
   ]
  },
  {
   "cell_type": "code",
   "execution_count": 213,
   "id": "f1212f84",
   "metadata": {
    "scrolled": true
   },
   "outputs": [
    {
     "data": {
      "text/html": [
       "<div>\n",
       "<style scoped>\n",
       "    .dataframe tbody tr th:only-of-type {\n",
       "        vertical-align: middle;\n",
       "    }\n",
       "\n",
       "    .dataframe tbody tr th {\n",
       "        vertical-align: top;\n",
       "    }\n",
       "\n",
       "    .dataframe thead th {\n",
       "        text-align: right;\n",
       "    }\n",
       "</style>\n",
       "<table border=\"1\" class=\"dataframe\">\n",
       "  <thead>\n",
       "    <tr style=\"text-align: right;\">\n",
       "      <th></th>\n",
       "      <th>Pregnancies</th>\n",
       "      <th>Glucose</th>\n",
       "      <th>BloodPressure</th>\n",
       "      <th>SkinThickness</th>\n",
       "      <th>Insulin</th>\n",
       "      <th>BMI</th>\n",
       "      <th>DiabetesPedigreeFunction</th>\n",
       "      <th>Age</th>\n",
       "      <th>Outcome</th>\n",
       "    </tr>\n",
       "  </thead>\n",
       "  <tbody>\n",
       "    <tr>\n",
       "      <th>0</th>\n",
       "      <td>1</td>\n",
       "      <td>189</td>\n",
       "      <td>56</td>\n",
       "      <td>89</td>\n",
       "      <td>533</td>\n",
       "      <td>26.637558</td>\n",
       "      <td>2.465202</td>\n",
       "      <td>33</td>\n",
       "      <td>1</td>\n",
       "    </tr>\n",
       "    <tr>\n",
       "      <th>1</th>\n",
       "      <td>9</td>\n",
       "      <td>115</td>\n",
       "      <td>79</td>\n",
       "      <td>82</td>\n",
       "      <td>348</td>\n",
       "      <td>27.301961</td>\n",
       "      <td>1.695262</td>\n",
       "      <td>47</td>\n",
       "      <td>0</td>\n",
       "    </tr>\n",
       "    <tr>\n",
       "      <th>2</th>\n",
       "      <td>15</td>\n",
       "      <td>92</td>\n",
       "      <td>106</td>\n",
       "      <td>79</td>\n",
       "      <td>397</td>\n",
       "      <td>21.483862</td>\n",
       "      <td>1.561779</td>\n",
       "      <td>38</td>\n",
       "      <td>0</td>\n",
       "    </tr>\n",
       "    <tr>\n",
       "      <th>3</th>\n",
       "      <td>11</td>\n",
       "      <td>115</td>\n",
       "      <td>58</td>\n",
       "      <td>72</td>\n",
       "      <td>274</td>\n",
       "      <td>15.451017</td>\n",
       "      <td>0.663310</td>\n",
       "      <td>45</td>\n",
       "      <td>0</td>\n",
       "    </tr>\n",
       "    <tr>\n",
       "      <th>4</th>\n",
       "      <td>14</td>\n",
       "      <td>179</td>\n",
       "      <td>72</td>\n",
       "      <td>61</td>\n",
       "      <td>725</td>\n",
       "      <td>48.797996</td>\n",
       "      <td>0.252216</td>\n",
       "      <td>73</td>\n",
       "      <td>1</td>\n",
       "    </tr>\n",
       "    <tr>\n",
       "      <th>...</th>\n",
       "      <td>...</td>\n",
       "      <td>...</td>\n",
       "      <td>...</td>\n",
       "      <td>...</td>\n",
       "      <td>...</td>\n",
       "      <td>...</td>\n",
       "      <td>...</td>\n",
       "      <td>...</td>\n",
       "      <td>...</td>\n",
       "    </tr>\n",
       "    <tr>\n",
       "      <th>4995</th>\n",
       "      <td>11</td>\n",
       "      <td>154</td>\n",
       "      <td>89</td>\n",
       "      <td>23</td>\n",
       "      <td>667</td>\n",
       "      <td>31.545104</td>\n",
       "      <td>0.901156</td>\n",
       "      <td>59</td>\n",
       "      <td>1</td>\n",
       "    </tr>\n",
       "    <tr>\n",
       "      <th>4996</th>\n",
       "      <td>6</td>\n",
       "      <td>179</td>\n",
       "      <td>50</td>\n",
       "      <td>61</td>\n",
       "      <td>512</td>\n",
       "      <td>17.638450</td>\n",
       "      <td>1.424150</td>\n",
       "      <td>37</td>\n",
       "      <td>1</td>\n",
       "    </tr>\n",
       "    <tr>\n",
       "      <th>4997</th>\n",
       "      <td>5</td>\n",
       "      <td>114</td>\n",
       "      <td>60</td>\n",
       "      <td>27</td>\n",
       "      <td>572</td>\n",
       "      <td>34.228839</td>\n",
       "      <td>1.232788</td>\n",
       "      <td>36</td>\n",
       "      <td>0</td>\n",
       "    </tr>\n",
       "    <tr>\n",
       "      <th>4998</th>\n",
       "      <td>15</td>\n",
       "      <td>118</td>\n",
       "      <td>79</td>\n",
       "      <td>28</td>\n",
       "      <td>570</td>\n",
       "      <td>40.568408</td>\n",
       "      <td>0.626608</td>\n",
       "      <td>38</td>\n",
       "      <td>0</td>\n",
       "    </tr>\n",
       "    <tr>\n",
       "      <th>4999</th>\n",
       "      <td>1</td>\n",
       "      <td>132</td>\n",
       "      <td>52</td>\n",
       "      <td>42</td>\n",
       "      <td>55</td>\n",
       "      <td>29.887446</td>\n",
       "      <td>0.572953</td>\n",
       "      <td>27</td>\n",
       "      <td>0</td>\n",
       "    </tr>\n",
       "  </tbody>\n",
       "</table>\n",
       "<p>5000 rows × 9 columns</p>\n",
       "</div>"
      ],
      "text/plain": [
       "      Pregnancies  Glucose  BloodPressure  SkinThickness  Insulin        BMI   \n",
       "0               1      189             56             89      533  26.637558  \\\n",
       "1               9      115             79             82      348  27.301961   \n",
       "2              15       92            106             79      397  21.483862   \n",
       "3              11      115             58             72      274  15.451017   \n",
       "4              14      179             72             61      725  48.797996   \n",
       "...           ...      ...            ...            ...      ...        ...   \n",
       "4995           11      154             89             23      667  31.545104   \n",
       "4996            6      179             50             61      512  17.638450   \n",
       "4997            5      114             60             27      572  34.228839   \n",
       "4998           15      118             79             28      570  40.568408   \n",
       "4999            1      132             52             42       55  29.887446   \n",
       "\n",
       "      DiabetesPedigreeFunction  Age  Outcome  \n",
       "0                     2.465202   33        1  \n",
       "1                     1.695262   47        0  \n",
       "2                     1.561779   38        0  \n",
       "3                     0.663310   45        0  \n",
       "4                     0.252216   73        1  \n",
       "...                        ...  ...      ...  \n",
       "4995                  0.901156   59        1  \n",
       "4996                  1.424150   37        1  \n",
       "4997                  1.232788   36        0  \n",
       "4998                  0.626608   38        0  \n",
       "4999                  0.572953   27        0  \n",
       "\n",
       "[5000 rows x 9 columns]"
      ]
     },
     "execution_count": 213,
     "metadata": {},
     "output_type": "execute_result"
    }
   ],
   "source": [
    "data=pd.read_csv(\"Final_Diabetes.csv\")\n",
    "data"
   ]
  },
  {
   "cell_type": "code",
   "execution_count": 214,
   "id": "c3b180fd",
   "metadata": {},
   "outputs": [
    {
     "name": "stdout",
     "output_type": "stream",
     "text": [
      "Pregnancies                 0\n",
      "Glucose                     0\n",
      "BloodPressure               0\n",
      "SkinThickness               0\n",
      "Insulin                     0\n",
      "BMI                         0\n",
      "DiabetesPedigreeFunction    0\n",
      "Age                         0\n",
      "Outcome                     0\n",
      "dtype: int64\n"
     ]
    }
   ],
   "source": [
    "print(data.isnull().sum())"
   ]
  },
  {
   "cell_type": "code",
   "execution_count": 215,
   "id": "f11e77e7",
   "metadata": {},
   "outputs": [],
   "source": [
    "x=['Glucose','BloodPressure','SkinThickness','Insulin','BMI','DiabetesPedigreeFunction','Age']\n",
    "for col in x:\n",
    "    data[col]=data[col].replace(0,np.NaN)\n",
    "    mean=int(data[col].mean(skipna=True))\n",
    "    data[col]=data[col].replace(np.NaN,mean)"
   ]
  },
  {
   "cell_type": "code",
   "execution_count": 216,
   "id": "d996b979",
   "metadata": {},
   "outputs": [
    {
     "data": {
      "text/html": [
       "<div>\n",
       "<style scoped>\n",
       "    .dataframe tbody tr th:only-of-type {\n",
       "        vertical-align: middle;\n",
       "    }\n",
       "\n",
       "    .dataframe tbody tr th {\n",
       "        vertical-align: top;\n",
       "    }\n",
       "\n",
       "    .dataframe thead th {\n",
       "        text-align: right;\n",
       "    }\n",
       "</style>\n",
       "<table border=\"1\" class=\"dataframe\">\n",
       "  <thead>\n",
       "    <tr style=\"text-align: right;\">\n",
       "      <th></th>\n",
       "      <th>Pregnancies</th>\n",
       "      <th>Glucose</th>\n",
       "      <th>BloodPressure</th>\n",
       "      <th>SkinThickness</th>\n",
       "      <th>Insulin</th>\n",
       "      <th>BMI</th>\n",
       "      <th>DiabetesPedigreeFunction</th>\n",
       "      <th>Age</th>\n",
       "      <th>Outcome</th>\n",
       "    </tr>\n",
       "  </thead>\n",
       "  <tbody>\n",
       "    <tr>\n",
       "      <th>count</th>\n",
       "      <td>5000.000000</td>\n",
       "      <td>5000.00000</td>\n",
       "      <td>5000.000000</td>\n",
       "      <td>5000.000000</td>\n",
       "      <td>5000.000000</td>\n",
       "      <td>5000.000000</td>\n",
       "      <td>5000.000000</td>\n",
       "      <td>5000.000000</td>\n",
       "      <td>5000.000000</td>\n",
       "    </tr>\n",
       "    <tr>\n",
       "      <th>mean</th>\n",
       "      <td>8.475000</td>\n",
       "      <td>134.98040</td>\n",
       "      <td>80.130400</td>\n",
       "      <td>54.372200</td>\n",
       "      <td>425.384800</td>\n",
       "      <td>32.742047</td>\n",
       "      <td>1.284356</td>\n",
       "      <td>50.869800</td>\n",
       "      <td>0.618200</td>\n",
       "    </tr>\n",
       "    <tr>\n",
       "      <th>std</th>\n",
       "      <td>5.180149</td>\n",
       "      <td>37.91731</td>\n",
       "      <td>17.584085</td>\n",
       "      <td>25.935331</td>\n",
       "      <td>242.965412</td>\n",
       "      <td>10.111788</td>\n",
       "      <td>0.693494</td>\n",
       "      <td>17.666728</td>\n",
       "      <td>0.485877</td>\n",
       "    </tr>\n",
       "    <tr>\n",
       "      <th>min</th>\n",
       "      <td>0.000000</td>\n",
       "      <td>70.00000</td>\n",
       "      <td>50.000000</td>\n",
       "      <td>10.000000</td>\n",
       "      <td>1.000000</td>\n",
       "      <td>15.008868</td>\n",
       "      <td>0.080308</td>\n",
       "      <td>21.000000</td>\n",
       "      <td>0.000000</td>\n",
       "    </tr>\n",
       "    <tr>\n",
       "      <th>25%</th>\n",
       "      <td>4.000000</td>\n",
       "      <td>102.00000</td>\n",
       "      <td>65.000000</td>\n",
       "      <td>32.000000</td>\n",
       "      <td>215.000000</td>\n",
       "      <td>23.864798</td>\n",
       "      <td>0.692852</td>\n",
       "      <td>36.000000</td>\n",
       "      <td>0.000000</td>\n",
       "    </tr>\n",
       "    <tr>\n",
       "      <th>50%</th>\n",
       "      <td>8.000000</td>\n",
       "      <td>136.00000</td>\n",
       "      <td>80.000000</td>\n",
       "      <td>55.000000</td>\n",
       "      <td>429.000000</td>\n",
       "      <td>33.125206</td>\n",
       "      <td>1.283382</td>\n",
       "      <td>51.000000</td>\n",
       "      <td>1.000000</td>\n",
       "    </tr>\n",
       "    <tr>\n",
       "      <th>75%</th>\n",
       "      <td>13.000000</td>\n",
       "      <td>168.00000</td>\n",
       "      <td>96.000000</td>\n",
       "      <td>77.000000</td>\n",
       "      <td>636.000000</td>\n",
       "      <td>41.443057</td>\n",
       "      <td>1.872322</td>\n",
       "      <td>66.000000</td>\n",
       "      <td>1.000000</td>\n",
       "    </tr>\n",
       "    <tr>\n",
       "      <th>max</th>\n",
       "      <td>17.000000</td>\n",
       "      <td>200.00000</td>\n",
       "      <td>110.000000</td>\n",
       "      <td>99.000000</td>\n",
       "      <td>846.000000</td>\n",
       "      <td>49.974408</td>\n",
       "      <td>2.499902</td>\n",
       "      <td>81.000000</td>\n",
       "      <td>1.000000</td>\n",
       "    </tr>\n",
       "  </tbody>\n",
       "</table>\n",
       "</div>"
      ],
      "text/plain": [
       "       Pregnancies     Glucose  BloodPressure  SkinThickness      Insulin   \n",
       "count  5000.000000  5000.00000    5000.000000    5000.000000  5000.000000  \\\n",
       "mean      8.475000   134.98040      80.130400      54.372200   425.384800   \n",
       "std       5.180149    37.91731      17.584085      25.935331   242.965412   \n",
       "min       0.000000    70.00000      50.000000      10.000000     1.000000   \n",
       "25%       4.000000   102.00000      65.000000      32.000000   215.000000   \n",
       "50%       8.000000   136.00000      80.000000      55.000000   429.000000   \n",
       "75%      13.000000   168.00000      96.000000      77.000000   636.000000   \n",
       "max      17.000000   200.00000     110.000000      99.000000   846.000000   \n",
       "\n",
       "               BMI  DiabetesPedigreeFunction          Age      Outcome  \n",
       "count  5000.000000               5000.000000  5000.000000  5000.000000  \n",
       "mean     32.742047                  1.284356    50.869800     0.618200  \n",
       "std      10.111788                  0.693494    17.666728     0.485877  \n",
       "min      15.008868                  0.080308    21.000000     0.000000  \n",
       "25%      23.864798                  0.692852    36.000000     0.000000  \n",
       "50%      33.125206                  1.283382    51.000000     1.000000  \n",
       "75%      41.443057                  1.872322    66.000000     1.000000  \n",
       "max      49.974408                  2.499902    81.000000     1.000000  "
      ]
     },
     "execution_count": 216,
     "metadata": {},
     "output_type": "execute_result"
    }
   ],
   "source": [
    "data.describe()"
   ]
  },
  {
   "cell_type": "code",
   "execution_count": 217,
   "id": "08f38765",
   "metadata": {},
   "outputs": [
    {
     "data": {
      "text/html": [
       "<div>\n",
       "<style scoped>\n",
       "    .dataframe tbody tr th:only-of-type {\n",
       "        vertical-align: middle;\n",
       "    }\n",
       "\n",
       "    .dataframe tbody tr th {\n",
       "        vertical-align: top;\n",
       "    }\n",
       "\n",
       "    .dataframe thead th {\n",
       "        text-align: right;\n",
       "    }\n",
       "</style>\n",
       "<table border=\"1\" class=\"dataframe\">\n",
       "  <thead>\n",
       "    <tr style=\"text-align: right;\">\n",
       "      <th></th>\n",
       "      <th>Pregnancies</th>\n",
       "      <th>Glucose</th>\n",
       "      <th>BloodPressure</th>\n",
       "      <th>SkinThickness</th>\n",
       "      <th>Insulin</th>\n",
       "      <th>BMI</th>\n",
       "      <th>DiabetesPedigreeFunction</th>\n",
       "      <th>Age</th>\n",
       "      <th>Outcome</th>\n",
       "    </tr>\n",
       "  </thead>\n",
       "  <tbody>\n",
       "    <tr>\n",
       "      <th>0</th>\n",
       "      <td>1</td>\n",
       "      <td>189</td>\n",
       "      <td>56</td>\n",
       "      <td>89</td>\n",
       "      <td>533.0</td>\n",
       "      <td>26.637558</td>\n",
       "      <td>2.465202</td>\n",
       "      <td>33</td>\n",
       "      <td>1</td>\n",
       "    </tr>\n",
       "    <tr>\n",
       "      <th>1</th>\n",
       "      <td>9</td>\n",
       "      <td>115</td>\n",
       "      <td>79</td>\n",
       "      <td>82</td>\n",
       "      <td>348.0</td>\n",
       "      <td>27.301961</td>\n",
       "      <td>1.695262</td>\n",
       "      <td>47</td>\n",
       "      <td>0</td>\n",
       "    </tr>\n",
       "    <tr>\n",
       "      <th>2</th>\n",
       "      <td>15</td>\n",
       "      <td>92</td>\n",
       "      <td>106</td>\n",
       "      <td>79</td>\n",
       "      <td>397.0</td>\n",
       "      <td>21.483862</td>\n",
       "      <td>1.561779</td>\n",
       "      <td>38</td>\n",
       "      <td>0</td>\n",
       "    </tr>\n",
       "    <tr>\n",
       "      <th>3</th>\n",
       "      <td>11</td>\n",
       "      <td>115</td>\n",
       "      <td>58</td>\n",
       "      <td>72</td>\n",
       "      <td>274.0</td>\n",
       "      <td>15.451017</td>\n",
       "      <td>0.663310</td>\n",
       "      <td>45</td>\n",
       "      <td>0</td>\n",
       "    </tr>\n",
       "    <tr>\n",
       "      <th>4</th>\n",
       "      <td>14</td>\n",
       "      <td>179</td>\n",
       "      <td>72</td>\n",
       "      <td>61</td>\n",
       "      <td>725.0</td>\n",
       "      <td>48.797996</td>\n",
       "      <td>0.252216</td>\n",
       "      <td>73</td>\n",
       "      <td>1</td>\n",
       "    </tr>\n",
       "  </tbody>\n",
       "</table>\n",
       "</div>"
      ],
      "text/plain": [
       "   Pregnancies  Glucose  BloodPressure  SkinThickness  Insulin        BMI   \n",
       "0            1      189             56             89    533.0  26.637558  \\\n",
       "1            9      115             79             82    348.0  27.301961   \n",
       "2           15       92            106             79    397.0  21.483862   \n",
       "3           11      115             58             72    274.0  15.451017   \n",
       "4           14      179             72             61    725.0  48.797996   \n",
       "\n",
       "   DiabetesPedigreeFunction  Age  Outcome  \n",
       "0                  2.465202   33        1  \n",
       "1                  1.695262   47        0  \n",
       "2                  1.561779   38        0  \n",
       "3                  0.663310   45        0  \n",
       "4                  0.252216   73        1  "
      ]
     },
     "execution_count": 217,
     "metadata": {},
     "output_type": "execute_result"
    }
   ],
   "source": [
    "data.head()"
   ]
  },
  {
   "cell_type": "code",
   "execution_count": 218,
   "id": "00491a0e",
   "metadata": {},
   "outputs": [
    {
     "data": {
      "text/html": [
       "<div>\n",
       "<style scoped>\n",
       "    .dataframe tbody tr th:only-of-type {\n",
       "        vertical-align: middle;\n",
       "    }\n",
       "\n",
       "    .dataframe tbody tr th {\n",
       "        vertical-align: top;\n",
       "    }\n",
       "\n",
       "    .dataframe thead th {\n",
       "        text-align: right;\n",
       "    }\n",
       "</style>\n",
       "<table border=\"1\" class=\"dataframe\">\n",
       "  <thead>\n",
       "    <tr style=\"text-align: right;\">\n",
       "      <th></th>\n",
       "      <th>Pregnancies</th>\n",
       "      <th>Glucose</th>\n",
       "      <th>BloodPressure</th>\n",
       "      <th>SkinThickness</th>\n",
       "      <th>Insulin</th>\n",
       "      <th>BMI</th>\n",
       "      <th>DiabetesPedigreeFunction</th>\n",
       "      <th>Age</th>\n",
       "      <th>Outcome</th>\n",
       "    </tr>\n",
       "  </thead>\n",
       "  <tbody>\n",
       "    <tr>\n",
       "      <th>4995</th>\n",
       "      <td>11</td>\n",
       "      <td>154</td>\n",
       "      <td>89</td>\n",
       "      <td>23</td>\n",
       "      <td>667.0</td>\n",
       "      <td>31.545104</td>\n",
       "      <td>0.901156</td>\n",
       "      <td>59</td>\n",
       "      <td>1</td>\n",
       "    </tr>\n",
       "    <tr>\n",
       "      <th>4996</th>\n",
       "      <td>6</td>\n",
       "      <td>179</td>\n",
       "      <td>50</td>\n",
       "      <td>61</td>\n",
       "      <td>512.0</td>\n",
       "      <td>17.638450</td>\n",
       "      <td>1.424150</td>\n",
       "      <td>37</td>\n",
       "      <td>1</td>\n",
       "    </tr>\n",
       "    <tr>\n",
       "      <th>4997</th>\n",
       "      <td>5</td>\n",
       "      <td>114</td>\n",
       "      <td>60</td>\n",
       "      <td>27</td>\n",
       "      <td>572.0</td>\n",
       "      <td>34.228839</td>\n",
       "      <td>1.232788</td>\n",
       "      <td>36</td>\n",
       "      <td>0</td>\n",
       "    </tr>\n",
       "    <tr>\n",
       "      <th>4998</th>\n",
       "      <td>15</td>\n",
       "      <td>118</td>\n",
       "      <td>79</td>\n",
       "      <td>28</td>\n",
       "      <td>570.0</td>\n",
       "      <td>40.568408</td>\n",
       "      <td>0.626608</td>\n",
       "      <td>38</td>\n",
       "      <td>0</td>\n",
       "    </tr>\n",
       "    <tr>\n",
       "      <th>4999</th>\n",
       "      <td>1</td>\n",
       "      <td>132</td>\n",
       "      <td>52</td>\n",
       "      <td>42</td>\n",
       "      <td>55.0</td>\n",
       "      <td>29.887446</td>\n",
       "      <td>0.572953</td>\n",
       "      <td>27</td>\n",
       "      <td>0</td>\n",
       "    </tr>\n",
       "  </tbody>\n",
       "</table>\n",
       "</div>"
      ],
      "text/plain": [
       "      Pregnancies  Glucose  BloodPressure  SkinThickness  Insulin        BMI   \n",
       "4995           11      154             89             23    667.0  31.545104  \\\n",
       "4996            6      179             50             61    512.0  17.638450   \n",
       "4997            5      114             60             27    572.0  34.228839   \n",
       "4998           15      118             79             28    570.0  40.568408   \n",
       "4999            1      132             52             42     55.0  29.887446   \n",
       "\n",
       "      DiabetesPedigreeFunction  Age  Outcome  \n",
       "4995                  0.901156   59        1  \n",
       "4996                  1.424150   37        1  \n",
       "4997                  1.232788   36        0  \n",
       "4998                  0.626608   38        0  \n",
       "4999                  0.572953   27        0  "
      ]
     },
     "execution_count": 218,
     "metadata": {},
     "output_type": "execute_result"
    }
   ],
   "source": [
    "data.tail()"
   ]
  },
  {
   "cell_type": "code",
   "execution_count": 219,
   "id": "af0c114b",
   "metadata": {},
   "outputs": [
    {
     "name": "stdout",
     "output_type": "stream",
     "text": [
      "Outcome\n",
      "1    3091\n",
      "0    1909\n",
      "Name: count, dtype: int64\n"
     ]
    }
   ],
   "source": [
    "count=data['Outcome'].value_counts()\n",
    "print(count)"
   ]
  },
  {
   "cell_type": "code",
   "execution_count": 220,
   "id": "2653b96f",
   "metadata": {},
   "outputs": [
    {
     "data": {
      "image/png": "[encoded data removed]",
      "text/plain": [
       "<Figure size 432x288 with 1 Axes>"
      ]
     },
     "metadata": {
      "needs_background": "light"
     },
     "output_type": "display_data"
    }
   ],
   "source": [
    "count.plot(kind='bar',color=['green','blue'])\n",
    "plt.title(\"Diabetic and non diabetic\")\n",
    "plt.xlabel(\"Diabetic status\")\n",
    "plt.ylabel(\"Count\")\n",
    "plt.xticks(rotation=0)\n",
    "for i, c in enumerate(count):\n",
    "    plt.text(i, c + 5, str(c), ha='center', va='bottom')\n",
    "plt.show()"
   ]
  },
  {
   "cell_type": "code",
   "execution_count": 221,
   "id": "4f0f6e3f",
   "metadata": {},
   "outputs": [
    {
     "name": "stdout",
     "output_type": "stream",
     "text": [
      "Average age of individuals is: 50.8698\n",
      "Median age of individuals is: 51.0\n"
     ]
    }
   ],
   "source": [
    "print(\"Average age of individuals is: \",end='')\n",
    "avg_age=data['Age'].mean()\n",
    "print(avg_age)\n",
    "print(\"Median age of individuals is: \",end='')\n",
    "med_age=data['Age'].median()\n",
    "print(med_age)"
   ]
  },
  {
   "cell_type": "code",
   "execution_count": 222,
   "id": "8801e50b",
   "metadata": {},
   "outputs": [
    {
     "data": {
      "text/plain": [
       "<Axes: xlabel='Pregnancies', ylabel='Glucose'>"
      ]
     },
     "execution_count": 222,
     "metadata": {},
     "output_type": "execute_result"
    },
    {
     "data": {
      "image/png": "[encoded data removed]",
      "text/plain": [
       "<Figure size 432x288 with 1 Axes>"
      ]
     },
     "metadata": {
      "needs_background": "light"
     },
     "output_type": "display_data"
    }
   ],
   "source": [
    "data.plot(kind='scatter',x='Pregnancies',y='Glucose',c='red')"
   ]
  },
  {
   "cell_type": "code",
   "execution_count": 223,
   "id": "1ebc203c",
   "metadata": {},
   "outputs": [
    {
     "data": {
      "text/plain": [
       "Text(0.5, 0, 'Blood Pressure')"
      ]
     },
     "execution_count": 223,
     "metadata": {},
     "output_type": "execute_result"
    },
    {
     "data": {
      "image/png": "[encoded data removed]",
      "text/plain": [
       "<Figure size 432x288 with 1 Axes>"
      ]
     },
     "metadata": {
      "needs_background": "light"
     },
     "output_type": "display_data"
    }
   ],
   "source": [
    "plt.boxplot(data['BloodPressure'])\n",
    "plt.xlabel(\"Blood Pressure\")"
   ]
  },
  {
   "cell_type": "markdown",
   "id": "bc55b794",
   "metadata": {},
   "source": [
    "There are no outliers in blood pressure as there are no outliers in the boxplot"
   ]
  },
  {
   "cell_type": "code",
   "execution_count": 224,
   "id": "bb6be8b9",
   "metadata": {},
   "outputs": [
    {
     "name": "stdout",
     "output_type": "stream",
     "text": [
      "32.742046537128275\n",
      "10.111788110518422\n"
     ]
    }
   ],
   "source": [
    "mean=data['BMI'].mean()\n",
    "std=np.sqrt(data['BMI'].var())\n",
    "print(mean)\n",
    "print(std)"
   ]
  },
  {
   "cell_type": "code",
   "execution_count": 225,
   "id": "1204c632",
   "metadata": {},
   "outputs": [
    {
     "data": {
      "text/plain": [
       "[<matplotlib.lines.Line2D at 0x7fa4dea086a0>]"
      ]
     },
     "execution_count": 225,
     "metadata": {},
     "output_type": "execute_result"
    },
    {
     "data": {
      "image/png": "[encoded data removed]",
      "text/plain": [
       "<Figure size 432x288 with 1 Axes>"
      ]
     },
     "metadata": {
      "needs_background": "light"
     },
     "output_type": "display_data"
    }
   ],
   "source": [
    "f=norm.pdf(data['BMI'],mean,std)\n",
    "plt.plot(data['BMI'],f)"
   ]
  },
  {
   "cell_type": "code",
   "execution_count": 226,
   "id": "5c715cd0",
   "metadata": {},
   "outputs": [
    {
     "data": {
      "text/plain": [
       "(array([313., 346., 330., 310., 339., 295., 334., 312., 357., 343., 359.,\n",
       "        336., 349., 326., 351.]),\n",
       " array([15.00886786, 17.33990385, 19.67093984, 22.00197583, 24.33301182,\n",
       "        26.66404781, 28.9950838 , 31.32611979, 33.65715578, 35.98819177,\n",
       "        38.31922776, 40.65026375, 42.98129974, 45.31233573, 47.64337172,\n",
       "        49.97440771]),\n",
       " <BarContainer object of 15 artists>)"
      ]
     },
     "execution_count": 226,
     "metadata": {},
     "output_type": "execute_result"
    },
    {
     "data": {
      "image/png": "[encoded data removed]",
      "text/plain": [
       "<Figure size 432x288 with 1 Axes>"
      ]
     },
     "metadata": {
      "needs_background": "light"
     },
     "output_type": "display_data"
    }
   ],
   "source": [
    "plt.hist(data['BMI'],color=\"skyblue\",edgecolor='white',bins=15)"
   ]
  },
  {
   "cell_type": "code",
   "execution_count": 227,
   "id": "04388322",
   "metadata": {},
   "outputs": [
    {
     "data": {
      "text/plain": [
       "<Axes: xlabel='BMI', ylabel='SkinThickness'>"
      ]
     },
     "execution_count": 227,
     "metadata": {},
     "output_type": "execute_result"
    },
    {
     "data": {
      "image/png": "[encoded data removed]",
      "text/plain": [
       "<Figure size 432x288 with 1 Axes>"
      ]
     },
     "metadata": {
      "needs_background": "light"
     },
     "output_type": "display_data"
    }
   ],
   "source": [
    "data.plot(kind='scatter',x='BMI',y='SkinThickness',c='red')"
   ]
  },
  {
   "cell_type": "code",
   "execution_count": 228,
   "id": "015de280",
   "metadata": {},
   "outputs": [
    {
     "name": "stdout",
     "output_type": "stream",
     "text": [
      "Correlation between BMI and SkinThickness is Negative\n"
     ]
    }
   ],
   "source": [
    "print(\"Correlation between BMI and SkinThickness is \",end='')\n",
    "correlation=data['BMI'].corr(data['SkinThickness'])\n",
    "if correlation>0.5:\n",
    "    print(\"Positive\")\n",
    "else:\n",
    "    print(\"Negative\")"
   ]
  },
  {
   "cell_type": "code",
   "execution_count": 229,
   "id": "2faef4f3",
   "metadata": {},
   "outputs": [
    {
     "name": "stdout",
     "output_type": "stream",
     "text": [
      "Do people with more pregnancies tend to be older?\n",
      "Yes\n"
     ]
    }
   ],
   "source": [
    "print(\"Do people with more pregnancies tend to be older?\")\n",
    "correlation=data['Pregnancies'].corr(data['Age'])\n",
    "if(correlation>0):\n",
    "    print(\"Yes\")\n",
    "else:\n",
    "    print(\"No\")"
   ]
  },
  {
   "cell_type": "code",
   "execution_count": 230,
   "id": "455921f6",
   "metadata": {},
   "outputs": [
    {
     "data": {
      "text/plain": [
       "<Axes: xlabel='Pregnancies', ylabel='Age'>"
      ]
     },
     "execution_count": 230,
     "metadata": {},
     "output_type": "execute_result"
    },
    {
     "data": {
      "image/png": "[encoded data removed]",
      "text/plain": [
       "<Figure size 432x288 with 1 Axes>"
      ]
     },
     "metadata": {
      "needs_background": "light"
     },
     "output_type": "display_data"
    }
   ],
   "source": [
    "data.plot(kind='scatter',x='Pregnancies',y='Age',c='red')"
   ]
  },
  {
   "cell_type": "code",
   "execution_count": 231,
   "id": "7b3d12fd",
   "metadata": {},
   "outputs": [
    {
     "data": {
      "text/plain": [
       "<Axes: xlabel='Outcome', ylabel='Glucose'>"
      ]
     },
     "execution_count": 231,
     "metadata": {},
     "output_type": "execute_result"
    },
    {
     "data": {
      "image/png": "[encoded data removed]",
      "text/plain": [
       "<Figure size 432x288 with 1 Axes>"
      ]
     },
     "metadata": {
      "needs_background": "light"
     },
     "output_type": "display_data"
    }
   ],
   "source": [
    "sns.boxplot(x='Outcome',y='Glucose',data=data)"
   ]
  },
  {
   "cell_type": "code",
   "execution_count": 232,
   "id": "f78ae246",
   "metadata": {},
   "outputs": [
    {
     "data": {
      "text/plain": [
       "<Axes: xlabel='Outcome', ylabel='Glucose'>"
      ]
     },
     "execution_count": 232,
     "metadata": {},
     "output_type": "execute_result"
    },
    {
     "data": {
      "image/png": "[encoded data removed]",
      "text/plain": [
       "<Figure size 432x288 with 1 Axes>"
      ]
     },
     "metadata": {
      "needs_background": "light"
     },
     "output_type": "display_data"
    }
   ],
   "source": [
    "data.plot(kind='scatter',x='Outcome',y='Glucose',c='red')"
   ]
  },
  {
   "cell_type": "code",
   "execution_count": 233,
   "id": "5b655b1d",
   "metadata": {},
   "outputs": [
    {
     "name": "stdout",
     "output_type": "stream",
     "text": [
      "Mean DiabetesPedigreeFunction of diabetic women is:1.3806148171989994\n",
      "Mean DiabetesPedigreeFunction of non-diabetic women is:1.1284969665989129\n"
     ]
    }
   ],
   "source": [
    "print(\"Mean DiabetesPedigreeFunction of diabetic women is:\",end='')\n",
    "diab_mean=data[data['Outcome']==1]['DiabetesPedigreeFunction'].mean()\n",
    "print(diab_mean)\n",
    "print(\"Mean DiabetesPedigreeFunction of non-diabetic women is:\",end='')\n",
    "diab_mean=data[data['Outcome']==0]['DiabetesPedigreeFunction'].mean()\n",
    "print(diab_mean)"
   ]
  },
  {
   "cell_type": "code",
   "execution_count": 234,
   "id": "8b6e258f",
   "metadata": {},
   "outputs": [
    {
     "name": "stdout",
     "output_type": "stream",
     "text": [
      "Mean age of diabetic women is:54.53898414752507\n",
      "Mean age of non-diabetic women is:44.92875851231011\n"
     ]
    }
   ],
   "source": [
    "print(\"Mean age of diabetic women is:\",end='')\n",
    "age_mean=data[data['Outcome']==1]['Age'].mean()\n",
    "print(age_mean)\n",
    "print(\"Mean age of non-diabetic women is:\",end='')\n",
    "age_mean=data[data['Outcome']==0]['Age'].mean()\n",
    "print(age_mean)"
   ]
  },
  {
   "cell_type": "code",
   "execution_count": 235,
   "id": "f51b67db",
   "metadata": {},
   "outputs": [
    {
     "name": "stdout",
     "output_type": "stream",
     "text": [
      "1196\n",
      "1846\n"
     ]
    }
   ],
   "source": [
    "print((data[(data['Age'] < 50) & (data['Outcome'] == 0)]).shape[0])\n",
    "print((data[(data['Age'] > 50) & (data['Outcome'] == 1)]).shape[0])"
   ]
  },
  {
   "cell_type": "markdown",
   "id": "a898109f",
   "metadata": {},
   "source": [
    "Both the means are almost same and not much difference in count,hence we can say that diabetes doesnt depend on age"
   ]
  },
  {
   "cell_type": "code",
   "execution_count": 236,
   "id": "9ab9a8bf",
   "metadata": {},
   "outputs": [
    {
     "data": {
      "text/plain": [
       "(array([0, 1]), [Text(0, 0, '0'), Text(1, 0, '1')])"
      ]
     },
     "execution_count": 236,
     "metadata": {},
     "output_type": "execute_result"
    },
    {
     "data": {
      "image/png": "[encoded data removed]",
      "text/plain": [
       "<Figure size 432x288 with 1 Axes>"
      ]
     },
     "metadata": {
      "needs_background": "light"
     },
     "output_type": "display_data"
    }
   ],
   "source": [
    "sns.barplot(x='Outcome', y='Age', data=data)\n",
    "plt.xticks(rotation=0)"
   ]
  },
  {
   "cell_type": "code",
   "execution_count": 237,
   "id": "8ffe17a4",
   "metadata": {},
   "outputs": [
    {
     "data": {
      "image/png": "[encoded data removed]",
      "text/plain": [
       "<Figure size 432x288 with 1 Axes>"
      ]
     },
     "metadata": {
      "needs_background": "light"
     },
     "output_type": "display_data"
    }
   ],
   "source": [
    "sns.barplot(x='Insulin', y='Age', data=data)\n",
    "plt.xticks(rotation=0)\n",
    "plt.show()"
   ]
  },
  {
   "cell_type": "code",
   "execution_count": 238,
   "id": "bd8e1098",
   "metadata": {},
   "outputs": [
    {
     "data": {
      "text/plain": [
       "(array([568., 558., 529., 289., 576., 550., 262., 579., 540., 549.]),\n",
       " array([ 0. ,  1.7,  3.4,  5.1,  6.8,  8.5, 10.2, 11.9, 13.6, 15.3, 17. ]),\n",
       " <BarContainer object of 10 artists>)"
      ]
     },
     "execution_count": 238,
     "metadata": {},
     "output_type": "execute_result"
    },
    {
     "data": {
      "image/png": "[encoded data removed]",
      "text/plain": [
       "<Figure size 432x288 with 1 Axes>"
      ]
     },
     "metadata": {
      "needs_background": "light"
     },
     "output_type": "display_data"
    }
   ],
   "source": [
    "plt.hist(data['Pregnancies'],edgecolor='white')"
   ]
  },
  {
   "cell_type": "code",
   "execution_count": 239,
   "id": "72202bdb",
   "metadata": {},
   "outputs": [
    {
     "data": {
      "text/plain": [
       "<Axes: xlabel='BloodPressure', ylabel='Age'>"
      ]
     },
     "execution_count": 239,
     "metadata": {},
     "output_type": "execute_result"
    },
    {
     "data": {
      "image/png": "[encoded data removed]",
      "text/plain": [
       "<Figure size 432x288 with 1 Axes>"
      ]
     },
     "metadata": {
      "needs_background": "light"
     },
     "output_type": "display_data"
    }
   ],
   "source": [
    "data.plot(kind='scatter',x='BloodPressure',y='Age',c='red')"
   ]
  },
  {
   "cell_type": "code",
   "execution_count": 240,
   "id": "91a6449c",
   "metadata": {},
   "outputs": [
    {
     "name": "stdout",
     "output_type": "stream",
     "text": [
      "Correlation between BMI and SkinThickness is 0.11069543037148165\n"
     ]
    }
   ],
   "source": [
    "data[col]=data['Outcome']\n",
    "print(\"Correlation between BMI and SkinThickness is \",end='')\n",
    "correlation=data['Pregnancies'].corr(data['Outcome'])\n",
    "print(correlation)"
   ]
  },
  {
   "cell_type": "code",
   "execution_count": null,
   "id": "ee5e454a",
   "metadata": {},
   "outputs": [],
   "source": []
  }
 ],
 "metadata": {
  "kernelspec": {
   "display_name": "Python 3 (ipykernel)",
   "language": "python",
   "name": "python3"
  },
  "language_info": {
   "codemirror_mode": {
    "name": "ipython",
    "version": 3
   },
   "file_extension": ".py",
   "mimetype": "text/x-python",
   "name": "python",
   "nbconvert_exporter": "python",
   "pygments_lexer": "ipython3",
   "version": "3.9.7"
  }
 },
 "nbformat": 4,
 "nbformat_minor": 5
}
