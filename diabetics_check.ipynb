{
 "cells": [
  {
   "cell_type": "code",
   "execution_count": 146,
   "id": "1787f644",
   "metadata": {},
   "outputs": [],
   "source": [
    "import pandas as pd\n",
    "import numpy as np\n",
    "import matplotlib.pyplot as plt\n",
    "import scipy.stats as stats\n",
    "from scipy.stats import norm\n",
    "import seaborn as sns"
   ]
  },
  {
   "cell_type": "code",
   "execution_count": 147,
   "id": "f1212f84",
   "metadata": {
    "scrolled": true
   },
   "outputs": [
    {
     "data": {
      "text/html": [
       "<div>\n",
       "<style scoped>\n",
       "    .dataframe tbody tr th:only-of-type {\n",
       "        vertical-align: middle;\n",
       "    }\n",
       "\n",
       "    .dataframe tbody tr th {\n",
       "        vertical-align: top;\n",
       "    }\n",
       "\n",
       "    .dataframe thead th {\n",
       "        text-align: right;\n",
       "    }\n",
       "</style>\n",
       "<table border=\"1\" class=\"dataframe\">\n",
       "  <thead>\n",
       "    <tr style=\"text-align: right;\">\n",
       "      <th></th>\n",
       "      <th>Pregnancies</th>\n",
       "      <th>Glucose</th>\n",
       "      <th>BloodPressure</th>\n",
       "      <th>SkinThickness</th>\n",
       "      <th>Insulin</th>\n",
       "      <th>BMI</th>\n",
       "      <th>DiabetesPedigreeFunction</th>\n",
       "      <th>Age</th>\n",
       "      <th>Outcome</th>\n",
       "    </tr>\n",
       "  </thead>\n",
       "  <tbody>\n",
       "    <tr>\n",
       "      <th>0</th>\n",
       "      <td>6</td>\n",
       "      <td>148</td>\n",
       "      <td>72</td>\n",
       "      <td>35</td>\n",
       "      <td>0</td>\n",
       "      <td>33.600000</td>\n",
       "      <td>0.627000</td>\n",
       "      <td>50</td>\n",
       "      <td>1</td>\n",
       "    </tr>\n",
       "    <tr>\n",
       "      <th>1</th>\n",
       "      <td>1</td>\n",
       "      <td>85</td>\n",
       "      <td>66</td>\n",
       "      <td>29</td>\n",
       "      <td>0</td>\n",
       "      <td>26.600000</td>\n",
       "      <td>0.351000</td>\n",
       "      <td>31</td>\n",
       "      <td>0</td>\n",
       "    </tr>\n",
       "    <tr>\n",
       "      <th>2</th>\n",
       "      <td>8</td>\n",
       "      <td>183</td>\n",
       "      <td>64</td>\n",
       "      <td>0</td>\n",
       "      <td>0</td>\n",
       "      <td>23.300000</td>\n",
       "      <td>0.672000</td>\n",
       "      <td>32</td>\n",
       "      <td>1</td>\n",
       "    </tr>\n",
       "    <tr>\n",
       "      <th>3</th>\n",
       "      <td>1</td>\n",
       "      <td>89</td>\n",
       "      <td>66</td>\n",
       "      <td>23</td>\n",
       "      <td>94</td>\n",
       "      <td>28.100000</td>\n",
       "      <td>0.167000</td>\n",
       "      <td>21</td>\n",
       "      <td>0</td>\n",
       "    </tr>\n",
       "    <tr>\n",
       "      <th>4</th>\n",
       "      <td>0</td>\n",
       "      <td>137</td>\n",
       "      <td>40</td>\n",
       "      <td>35</td>\n",
       "      <td>168</td>\n",
       "      <td>43.100000</td>\n",
       "      <td>2.288000</td>\n",
       "      <td>33</td>\n",
       "      <td>1</td>\n",
       "    </tr>\n",
       "    <tr>\n",
       "      <th>...</th>\n",
       "      <td>...</td>\n",
       "      <td>...</td>\n",
       "      <td>...</td>\n",
       "      <td>...</td>\n",
       "      <td>...</td>\n",
       "      <td>...</td>\n",
       "      <td>...</td>\n",
       "      <td>...</td>\n",
       "      <td>...</td>\n",
       "    </tr>\n",
       "    <tr>\n",
       "      <th>4000</th>\n",
       "      <td>9</td>\n",
       "      <td>173</td>\n",
       "      <td>96</td>\n",
       "      <td>9</td>\n",
       "      <td>162</td>\n",
       "      <td>25.627933</td>\n",
       "      <td>1.917928</td>\n",
       "      <td>27</td>\n",
       "      <td>1</td>\n",
       "    </tr>\n",
       "    <tr>\n",
       "      <th>4001</th>\n",
       "      <td>5</td>\n",
       "      <td>199</td>\n",
       "      <td>54</td>\n",
       "      <td>22</td>\n",
       "      <td>199</td>\n",
       "      <td>43.314307</td>\n",
       "      <td>1.384183</td>\n",
       "      <td>24</td>\n",
       "      <td>1</td>\n",
       "    </tr>\n",
       "    <tr>\n",
       "      <th>4002</th>\n",
       "      <td>9</td>\n",
       "      <td>95</td>\n",
       "      <td>74</td>\n",
       "      <td>14</td>\n",
       "      <td>198</td>\n",
       "      <td>47.794766</td>\n",
       "      <td>0.839422</td>\n",
       "      <td>24</td>\n",
       "      <td>0</td>\n",
       "    </tr>\n",
       "    <tr>\n",
       "      <th>4003</th>\n",
       "      <td>7</td>\n",
       "      <td>162</td>\n",
       "      <td>98</td>\n",
       "      <td>29</td>\n",
       "      <td>195</td>\n",
       "      <td>44.468631</td>\n",
       "      <td>2.276785</td>\n",
       "      <td>24</td>\n",
       "      <td>1</td>\n",
       "    </tr>\n",
       "    <tr>\n",
       "      <th>4004</th>\n",
       "      <td>3</td>\n",
       "      <td>140</td>\n",
       "      <td>86</td>\n",
       "      <td>33</td>\n",
       "      <td>57</td>\n",
       "      <td>42.355977</td>\n",
       "      <td>1.788239</td>\n",
       "      <td>46</td>\n",
       "      <td>1</td>\n",
       "    </tr>\n",
       "  </tbody>\n",
       "</table>\n",
       "<p>4005 rows × 9 columns</p>\n",
       "</div>"
      ],
      "text/plain": [
       "      Pregnancies  Glucose  BloodPressure  SkinThickness  Insulin        BMI   \n",
       "0               6      148             72             35        0  33.600000  \\\n",
       "1               1       85             66             29        0  26.600000   \n",
       "2               8      183             64              0        0  23.300000   \n",
       "3               1       89             66             23       94  28.100000   \n",
       "4               0      137             40             35      168  43.100000   \n",
       "...           ...      ...            ...            ...      ...        ...   \n",
       "4000            9      173             96              9      162  25.627933   \n",
       "4001            5      199             54             22      199  43.314307   \n",
       "4002            9       95             74             14      198  47.794766   \n",
       "4003            7      162             98             29      195  44.468631   \n",
       "4004            3      140             86             33       57  42.355977   \n",
       "\n",
       "      DiabetesPedigreeFunction  Age  Outcome  \n",
       "0                     0.627000   50        1  \n",
       "1                     0.351000   31        0  \n",
       "2                     0.672000   32        1  \n",
       "3                     0.167000   21        0  \n",
       "4                     2.288000   33        1  \n",
       "...                        ...  ...      ...  \n",
       "4000                  1.917928   27        1  \n",
       "4001                  1.384183   24        1  \n",
       "4002                  0.839422   24        0  \n",
       "4003                  2.276785   24        1  \n",
       "4004                  1.788239   46        1  \n",
       "\n",
       "[4005 rows x 9 columns]"
      ]
     },
     "execution_count": 147,
     "metadata": {},
     "output_type": "execute_result"
    }
   ],
   "source": [
    "data=pd.read_csv(\"diabetes_data.csv\")\n",
    "data"
   ]
  },
  {
   "cell_type": "code",
   "execution_count": 148,
   "id": "c3b180fd",
   "metadata": {},
   "outputs": [
    {
     "name": "stdout",
     "output_type": "stream",
     "text": [
      "Pregnancies                 0\n",
      "Glucose                     0\n",
      "BloodPressure               0\n",
      "SkinThickness               0\n",
      "Insulin                     0\n",
      "BMI                         0\n",
      "DiabetesPedigreeFunction    0\n",
      "Age                         0\n",
      "Outcome                     0\n",
      "dtype: int64\n"
     ]
    }
   ],
   "source": [
    "print(data.isnull().sum())"
   ]
  },
  {
   "cell_type": "code",
   "execution_count": 149,
   "id": "f11e77e7",
   "metadata": {},
   "outputs": [],
   "source": [
    "x=['Glucose','BloodPressure','SkinThickness','Insulin','BMI','DiabetesPedigreeFunction','Age']\n",
    "for col in x:\n",
    "    data[col]=data[col].replace(0,np.NaN)\n",
    "    mean=int(data[col].mean(skipna=True))\n",
    "    data[col]=data[col].replace(np.NaN,mean)"
   ]
  },
  {
   "cell_type": "code",
   "execution_count": 150,
   "id": "d996b979",
   "metadata": {},
   "outputs": [
    {
     "data": {
      "text/html": [
       "<div>\n",
       "<style scoped>\n",
       "    .dataframe tbody tr th:only-of-type {\n",
       "        vertical-align: middle;\n",
       "    }\n",
       "\n",
       "    .dataframe tbody tr th {\n",
       "        vertical-align: top;\n",
       "    }\n",
       "\n",
       "    .dataframe thead th {\n",
       "        text-align: right;\n",
       "    }\n",
       "</style>\n",
       "<table border=\"1\" class=\"dataframe\">\n",
       "  <thead>\n",
       "    <tr style=\"text-align: right;\">\n",
       "      <th></th>\n",
       "      <th>Pregnancies</th>\n",
       "      <th>Glucose</th>\n",
       "      <th>BloodPressure</th>\n",
       "      <th>SkinThickness</th>\n",
       "      <th>Insulin</th>\n",
       "      <th>BMI</th>\n",
       "      <th>DiabetesPedigreeFunction</th>\n",
       "      <th>Age</th>\n",
       "      <th>Outcome</th>\n",
       "    </tr>\n",
       "  </thead>\n",
       "  <tbody>\n",
       "    <tr>\n",
       "      <th>count</th>\n",
       "      <td>4005.000000</td>\n",
       "      <td>4005.000000</td>\n",
       "      <td>4005.000000</td>\n",
       "      <td>4005.000000</td>\n",
       "      <td>4005.000000</td>\n",
       "      <td>4005.000000</td>\n",
       "      <td>4005.000000</td>\n",
       "      <td>4005.000000</td>\n",
       "      <td>4005.000000</td>\n",
       "    </tr>\n",
       "    <tr>\n",
       "      <th>mean</th>\n",
       "      <td>4.445693</td>\n",
       "      <td>125.368539</td>\n",
       "      <td>74.165044</td>\n",
       "      <td>25.038202</td>\n",
       "      <td>100.787016</td>\n",
       "      <td>34.893774</td>\n",
       "      <td>1.248070</td>\n",
       "      <td>44.655181</td>\n",
       "      <td>0.949064</td>\n",
       "    </tr>\n",
       "    <tr>\n",
       "      <th>std</th>\n",
       "      <td>2.879508</td>\n",
       "      <td>43.092569</td>\n",
       "      <td>14.311347</td>\n",
       "      <td>13.978962</td>\n",
       "      <td>57.394918</td>\n",
       "      <td>8.592263</td>\n",
       "      <td>0.723274</td>\n",
       "      <td>14.418904</td>\n",
       "      <td>0.219895</td>\n",
       "    </tr>\n",
       "    <tr>\n",
       "      <th>min</th>\n",
       "      <td>0.000000</td>\n",
       "      <td>50.000000</td>\n",
       "      <td>40.000000</td>\n",
       "      <td>1.000000</td>\n",
       "      <td>1.000000</td>\n",
       "      <td>20.005265</td>\n",
       "      <td>0.000023</td>\n",
       "      <td>20.000000</td>\n",
       "      <td>0.000000</td>\n",
       "    </tr>\n",
       "    <tr>\n",
       "      <th>25%</th>\n",
       "      <td>2.000000</td>\n",
       "      <td>88.000000</td>\n",
       "      <td>62.000000</td>\n",
       "      <td>13.000000</td>\n",
       "      <td>51.000000</td>\n",
       "      <td>27.419054</td>\n",
       "      <td>0.626530</td>\n",
       "      <td>32.000000</td>\n",
       "      <td>1.000000</td>\n",
       "    </tr>\n",
       "    <tr>\n",
       "      <th>50%</th>\n",
       "      <td>4.000000</td>\n",
       "      <td>126.000000</td>\n",
       "      <td>74.000000</td>\n",
       "      <td>25.000000</td>\n",
       "      <td>101.000000</td>\n",
       "      <td>34.784752</td>\n",
       "      <td>1.238423</td>\n",
       "      <td>45.000000</td>\n",
       "      <td>1.000000</td>\n",
       "    </tr>\n",
       "    <tr>\n",
       "      <th>75%</th>\n",
       "      <td>7.000000</td>\n",
       "      <td>162.000000</td>\n",
       "      <td>86.000000</td>\n",
       "      <td>37.000000</td>\n",
       "      <td>150.000000</td>\n",
       "      <td>42.113749</td>\n",
       "      <td>1.881954</td>\n",
       "      <td>57.000000</td>\n",
       "      <td>1.000000</td>\n",
       "    </tr>\n",
       "    <tr>\n",
       "      <th>max</th>\n",
       "      <td>9.000000</td>\n",
       "      <td>199.000000</td>\n",
       "      <td>99.000000</td>\n",
       "      <td>49.000000</td>\n",
       "      <td>199.000000</td>\n",
       "      <td>49.996780</td>\n",
       "      <td>2.499237</td>\n",
       "      <td>69.000000</td>\n",
       "      <td>1.000000</td>\n",
       "    </tr>\n",
       "  </tbody>\n",
       "</table>\n",
       "</div>"
      ],
      "text/plain": [
       "       Pregnancies      Glucose  BloodPressure  SkinThickness      Insulin   \n",
       "count  4005.000000  4005.000000    4005.000000    4005.000000  4005.000000  \\\n",
       "mean      4.445693   125.368539      74.165044      25.038202   100.787016   \n",
       "std       2.879508    43.092569      14.311347      13.978962    57.394918   \n",
       "min       0.000000    50.000000      40.000000       1.000000     1.000000   \n",
       "25%       2.000000    88.000000      62.000000      13.000000    51.000000   \n",
       "50%       4.000000   126.000000      74.000000      25.000000   101.000000   \n",
       "75%       7.000000   162.000000      86.000000      37.000000   150.000000   \n",
       "max       9.000000   199.000000      99.000000      49.000000   199.000000   \n",
       "\n",
       "               BMI  DiabetesPedigreeFunction          Age      Outcome  \n",
       "count  4005.000000               4005.000000  4005.000000  4005.000000  \n",
       "mean     34.893774                  1.248070    44.655181     0.949064  \n",
       "std       8.592263                  0.723274    14.418904     0.219895  \n",
       "min      20.005265                  0.000023    20.000000     0.000000  \n",
       "25%      27.419054                  0.626530    32.000000     1.000000  \n",
       "50%      34.784752                  1.238423    45.000000     1.000000  \n",
       "75%      42.113749                  1.881954    57.000000     1.000000  \n",
       "max      49.996780                  2.499237    69.000000     1.000000  "
      ]
     },
     "execution_count": 150,
     "metadata": {},
     "output_type": "execute_result"
    }
   ],
   "source": [
    "data.describe()"
   ]
  },
  {
   "cell_type": "code",
   "execution_count": 151,
   "id": "08f38765",
   "metadata": {},
   "outputs": [
    {
     "data": {
      "text/html": [
       "<div>\n",
       "<style scoped>\n",
       "    .dataframe tbody tr th:only-of-type {\n",
       "        vertical-align: middle;\n",
       "    }\n",
       "\n",
       "    .dataframe tbody tr th {\n",
       "        vertical-align: top;\n",
       "    }\n",
       "\n",
       "    .dataframe thead th {\n",
       "        text-align: right;\n",
       "    }\n",
       "</style>\n",
       "<table border=\"1\" class=\"dataframe\">\n",
       "  <thead>\n",
       "    <tr style=\"text-align: right;\">\n",
       "      <th></th>\n",
       "      <th>Pregnancies</th>\n",
       "      <th>Glucose</th>\n",
       "      <th>BloodPressure</th>\n",
       "      <th>SkinThickness</th>\n",
       "      <th>Insulin</th>\n",
       "      <th>BMI</th>\n",
       "      <th>DiabetesPedigreeFunction</th>\n",
       "      <th>Age</th>\n",
       "      <th>Outcome</th>\n",
       "    </tr>\n",
       "  </thead>\n",
       "  <tbody>\n",
       "    <tr>\n",
       "      <th>0</th>\n",
       "      <td>6</td>\n",
       "      <td>148</td>\n",
       "      <td>72</td>\n",
       "      <td>35.0</td>\n",
       "      <td>100.0</td>\n",
       "      <td>33.6</td>\n",
       "      <td>0.627</td>\n",
       "      <td>50</td>\n",
       "      <td>1</td>\n",
       "    </tr>\n",
       "    <tr>\n",
       "      <th>1</th>\n",
       "      <td>1</td>\n",
       "      <td>85</td>\n",
       "      <td>66</td>\n",
       "      <td>29.0</td>\n",
       "      <td>100.0</td>\n",
       "      <td>26.6</td>\n",
       "      <td>0.351</td>\n",
       "      <td>31</td>\n",
       "      <td>0</td>\n",
       "    </tr>\n",
       "    <tr>\n",
       "      <th>2</th>\n",
       "      <td>8</td>\n",
       "      <td>183</td>\n",
       "      <td>64</td>\n",
       "      <td>25.0</td>\n",
       "      <td>100.0</td>\n",
       "      <td>23.3</td>\n",
       "      <td>0.672</td>\n",
       "      <td>32</td>\n",
       "      <td>1</td>\n",
       "    </tr>\n",
       "    <tr>\n",
       "      <th>3</th>\n",
       "      <td>1</td>\n",
       "      <td>89</td>\n",
       "      <td>66</td>\n",
       "      <td>23.0</td>\n",
       "      <td>94.0</td>\n",
       "      <td>28.1</td>\n",
       "      <td>0.167</td>\n",
       "      <td>21</td>\n",
       "      <td>0</td>\n",
       "    </tr>\n",
       "    <tr>\n",
       "      <th>4</th>\n",
       "      <td>0</td>\n",
       "      <td>137</td>\n",
       "      <td>40</td>\n",
       "      <td>35.0</td>\n",
       "      <td>168.0</td>\n",
       "      <td>43.1</td>\n",
       "      <td>2.288</td>\n",
       "      <td>33</td>\n",
       "      <td>1</td>\n",
       "    </tr>\n",
       "  </tbody>\n",
       "</table>\n",
       "</div>"
      ],
      "text/plain": [
       "   Pregnancies  Glucose  BloodPressure  SkinThickness  Insulin   BMI   \n",
       "0            6      148             72           35.0    100.0  33.6  \\\n",
       "1            1       85             66           29.0    100.0  26.6   \n",
       "2            8      183             64           25.0    100.0  23.3   \n",
       "3            1       89             66           23.0     94.0  28.1   \n",
       "4            0      137             40           35.0    168.0  43.1   \n",
       "\n",
       "   DiabetesPedigreeFunction  Age  Outcome  \n",
       "0                     0.627   50        1  \n",
       "1                     0.351   31        0  \n",
       "2                     0.672   32        1  \n",
       "3                     0.167   21        0  \n",
       "4                     2.288   33        1  "
      ]
     },
     "execution_count": 151,
     "metadata": {},
     "output_type": "execute_result"
    }
   ],
   "source": [
    "data.head()"
   ]
  },
  {
   "cell_type": "code",
   "execution_count": 152,
   "id": "00491a0e",
   "metadata": {},
   "outputs": [
    {
     "data": {
      "text/html": [
       "<div>\n",
       "<style scoped>\n",
       "    .dataframe tbody tr th:only-of-type {\n",
       "        vertical-align: middle;\n",
       "    }\n",
       "\n",
       "    .dataframe tbody tr th {\n",
       "        vertical-align: top;\n",
       "    }\n",
       "\n",
       "    .dataframe thead th {\n",
       "        text-align: right;\n",
       "    }\n",
       "</style>\n",
       "<table border=\"1\" class=\"dataframe\">\n",
       "  <thead>\n",
       "    <tr style=\"text-align: right;\">\n",
       "      <th></th>\n",
       "      <th>Pregnancies</th>\n",
       "      <th>Glucose</th>\n",
       "      <th>BloodPressure</th>\n",
       "      <th>SkinThickness</th>\n",
       "      <th>Insulin</th>\n",
       "      <th>BMI</th>\n",
       "      <th>DiabetesPedigreeFunction</th>\n",
       "      <th>Age</th>\n",
       "      <th>Outcome</th>\n",
       "    </tr>\n",
       "  </thead>\n",
       "  <tbody>\n",
       "    <tr>\n",
       "      <th>4000</th>\n",
       "      <td>9</td>\n",
       "      <td>173</td>\n",
       "      <td>96</td>\n",
       "      <td>9.0</td>\n",
       "      <td>162.0</td>\n",
       "      <td>25.627933</td>\n",
       "      <td>1.917928</td>\n",
       "      <td>27</td>\n",
       "      <td>1</td>\n",
       "    </tr>\n",
       "    <tr>\n",
       "      <th>4001</th>\n",
       "      <td>5</td>\n",
       "      <td>199</td>\n",
       "      <td>54</td>\n",
       "      <td>22.0</td>\n",
       "      <td>199.0</td>\n",
       "      <td>43.314307</td>\n",
       "      <td>1.384183</td>\n",
       "      <td>24</td>\n",
       "      <td>1</td>\n",
       "    </tr>\n",
       "    <tr>\n",
       "      <th>4002</th>\n",
       "      <td>9</td>\n",
       "      <td>95</td>\n",
       "      <td>74</td>\n",
       "      <td>14.0</td>\n",
       "      <td>198.0</td>\n",
       "      <td>47.794766</td>\n",
       "      <td>0.839422</td>\n",
       "      <td>24</td>\n",
       "      <td>0</td>\n",
       "    </tr>\n",
       "    <tr>\n",
       "      <th>4003</th>\n",
       "      <td>7</td>\n",
       "      <td>162</td>\n",
       "      <td>98</td>\n",
       "      <td>29.0</td>\n",
       "      <td>195.0</td>\n",
       "      <td>44.468631</td>\n",
       "      <td>2.276785</td>\n",
       "      <td>24</td>\n",
       "      <td>1</td>\n",
       "    </tr>\n",
       "    <tr>\n",
       "      <th>4004</th>\n",
       "      <td>3</td>\n",
       "      <td>140</td>\n",
       "      <td>86</td>\n",
       "      <td>33.0</td>\n",
       "      <td>57.0</td>\n",
       "      <td>42.355977</td>\n",
       "      <td>1.788239</td>\n",
       "      <td>46</td>\n",
       "      <td>1</td>\n",
       "    </tr>\n",
       "  </tbody>\n",
       "</table>\n",
       "</div>"
      ],
      "text/plain": [
       "      Pregnancies  Glucose  BloodPressure  SkinThickness  Insulin        BMI   \n",
       "4000            9      173             96            9.0    162.0  25.627933  \\\n",
       "4001            5      199             54           22.0    199.0  43.314307   \n",
       "4002            9       95             74           14.0    198.0  47.794766   \n",
       "4003            7      162             98           29.0    195.0  44.468631   \n",
       "4004            3      140             86           33.0     57.0  42.355977   \n",
       "\n",
       "      DiabetesPedigreeFunction  Age  Outcome  \n",
       "4000                  1.917928   27        1  \n",
       "4001                  1.384183   24        1  \n",
       "4002                  0.839422   24        0  \n",
       "4003                  2.276785   24        1  \n",
       "4004                  1.788239   46        1  "
      ]
     },
     "execution_count": 152,
     "metadata": {},
     "output_type": "execute_result"
    }
   ],
   "source": [
    "data.tail()"
   ]
  },
  {
   "cell_type": "code",
   "execution_count": 153,
   "id": "af0c114b",
   "metadata": {},
   "outputs": [
    {
     "name": "stdout",
     "output_type": "stream",
     "text": [
      "Outcome\n",
      "1    3801\n",
      "0     204\n",
      "Name: count, dtype: int64\n"
     ]
    }
   ],
   "source": [
    "count=data['Outcome'].value_counts()\n",
    "print(count)"
   ]
  },
  {
   "cell_type": "code",
   "execution_count": 154,
   "id": "2653b96f",
   "metadata": {},
   "outputs": [
    {
     "data": {
      "image/png": "[encoded data removed]",
      "text/plain": [
       "<Figure size 432x288 with 1 Axes>"
      ]
     },
     "metadata": {
      "needs_background": "light"
     },
     "output_type": "display_data"
    }
   ],
   "source": [
    "count.plot(kind='bar',color=['green','blue'])\n",
    "plt.title(\"Diabetic and non diabetic\")\n",
    "plt.xlabel(\"Diabetic status\")\n",
    "plt.ylabel(\"Count\")\n",
    "plt.xticks(rotation=0)\n",
    "for i, c in enumerate(count):\n",
    "    plt.text(i, c + 5, str(c), ha='center', va='bottom')\n",
    "plt.show()"
   ]
  },
  {
   "cell_type": "code",
   "execution_count": 155,
   "id": "4f0f6e3f",
   "metadata": {},
   "outputs": [
    {
     "name": "stdout",
     "output_type": "stream",
     "text": [
      "Average age of individuals is: 44.65518102372035\n",
      "Median age of individuals is: 45.0\n"
     ]
    }
   ],
   "source": [
    "print(\"Average age of individuals is: \",end='')\n",
    "avg_age=data['Age'].mean()\n",
    "print(avg_age)\n",
    "print(\"Median age of individuals is: \",end='')\n",
    "med_age=data['Age'].median()\n",
    "print(med_age)"
   ]
  },
  {
   "cell_type": "code",
   "execution_count": 156,
   "id": "8801e50b",
   "metadata": {},
   "outputs": [
    {
     "data": {
      "text/plain": [
       "<Axes: xlabel='Pregnancies', ylabel='Glucose'>"
      ]
     },
     "execution_count": 156,
     "metadata": {},
     "output_type": "execute_result"
    },
    {
     "data": {
      "image/png": "[encoded data removed]",
      "text/plain": [
       "<Figure size 432x288 with 1 Axes>"
      ]
     },
     "metadata": {
      "needs_background": "light"
     },
     "output_type": "display_data"
    }
   ],
   "source": [
    "data.plot(kind='scatter',x='Pregnancies',y='Glucose',c='red')"
   ]
  },
  {
   "cell_type": "code",
   "execution_count": 157,
   "id": "1ebc203c",
   "metadata": {},
   "outputs": [
    {
     "data": {
      "text/plain": [
       "Text(0.5, 0, 'Blood Pressure')"
      ]
     },
     "execution_count": 157,
     "metadata": {},
     "output_type": "execute_result"
    },
    {
     "data": {
      "image/png": "[encoded data removed]",
      "text/plain": [
       "<Figure size 432x288 with 1 Axes>"
      ]
     },
     "metadata": {
      "needs_background": "light"
     },
     "output_type": "display_data"
    }
   ],
   "source": [
    "plt.boxplot(data['BloodPressure'])\n",
    "plt.xlabel(\"Blood Pressure\")"
   ]
  },
  {
   "cell_type": "markdown",
   "id": "bc55b794",
   "metadata": {},
   "source": [
    "There are no outliers in blood pressure as there are no outliers in the boxplot"
   ]
  },
  {
   "cell_type": "code",
   "execution_count": 158,
   "id": "bb6be8b9",
   "metadata": {},
   "outputs": [
    {
     "name": "stdout",
     "output_type": "stream",
     "text": [
      "34.893773692883244\n",
      "8.592262588076961\n"
     ]
    }
   ],
   "source": [
    "mean=data['BMI'].mean()\n",
    "std=np.sqrt(data['BMI'].var())\n",
    "print(mean)\n",
    "print(std)"
   ]
  },
  {
   "cell_type": "code",
   "execution_count": 159,
   "id": "1204c632",
   "metadata": {},
   "outputs": [
    {
     "data": {
      "text/plain": [
       "[<matplotlib.lines.Line2D at 0x7fa498b34cd0>]"
      ]
     },
     "execution_count": 159,
     "metadata": {},
     "output_type": "execute_result"
    },
    {
     "data": {
      "image/png": "[encoded data removed]",
      "text/plain": [
       "<Figure size 432x288 with 1 Axes>"
      ]
     },
     "metadata": {
      "needs_background": "light"
     },
     "output_type": "display_data"
    }
   ],
   "source": [
    "f=norm.pdf(data['BMI'],mean,std)\n",
    "plt.plot(data['BMI'],f)"
   ]
  },
  {
   "cell_type": "code",
   "execution_count": 160,
   "id": "5c715cd0",
   "metadata": {},
   "outputs": [
    {
     "data": {
      "text/plain": [
       "(array([257., 244., 307., 266., 258., 301., 264., 262., 288., 275., 271.,\n",
       "        222., 250., 266., 274.]),\n",
       " array([20.00526548, 22.00469978, 24.00413408, 26.00356838, 28.00300268,\n",
       "        30.00243698, 32.00187129, 34.00130559, 36.00073989, 38.00017419,\n",
       "        39.99960849, 41.99904279, 43.9984771 , 45.9979114 , 47.9973457 ,\n",
       "        49.99678   ]),\n",
       " <BarContainer object of 15 artists>)"
      ]
     },
     "execution_count": 160,
     "metadata": {},
     "output_type": "execute_result"
    },
    {
     "data": {
      "image/png": "[encoded data removed]",
      "text/plain": [
       "<Figure size 432x288 with 1 Axes>"
      ]
     },
     "metadata": {
      "needs_background": "light"
     },
     "output_type": "display_data"
    }
   ],
   "source": [
    "plt.hist(data['BMI'],color=\"skyblue\",edgecolor='white',bins=15)"
   ]
  },
  {
   "cell_type": "code",
   "execution_count": 161,
   "id": "04388322",
   "metadata": {},
   "outputs": [
    {
     "data": {
      "text/plain": [
       "<Axes: xlabel='BMI', ylabel='SkinThickness'>"
      ]
     },
     "execution_count": 161,
     "metadata": {},
     "output_type": "execute_result"
    },
    {
     "data": {
      "image/png": "[encoded data removed]",
      "text/plain": [
       "<Figure size 432x288 with 1 Axes>"
      ]
     },
     "metadata": {
      "needs_background": "light"
     },
     "output_type": "display_data"
    }
   ],
   "source": [
    "data.plot(kind='scatter',x='BMI',y='SkinThickness',c='red')"
   ]
  },
  {
   "cell_type": "code",
   "execution_count": 162,
   "id": "015de280",
   "metadata": {},
   "outputs": [
    {
     "name": "stdout",
     "output_type": "stream",
     "text": [
      "Correlation between BMI and SkinThickness is Negative\n"
     ]
    }
   ],
   "source": [
    "print(\"Correlation between BMI and SkinThickness is \",end='')\n",
    "correlation=data['BMI'].corr(data['SkinThickness'])\n",
    "if correlation>0.5:\n",
    "    print(\"Positive\")\n",
    "else:\n",
    "    print(\"Negative\")"
   ]
  },
  {
   "cell_type": "code",
   "execution_count": 163,
   "id": "2faef4f3",
   "metadata": {},
   "outputs": [
    {
     "name": "stdout",
     "output_type": "stream",
     "text": [
      "Do people with more pregnancies tend to be older?\n",
      "No\n"
     ]
    }
   ],
   "source": [
    "print(\"Do people with more pregnancies tend to be older?\")\n",
    "correlation=data['Pregnancies'].corr(data['Age'])\n",
    "if(correlation>0):\n",
    "    print(\"Yes\")\n",
    "else:\n",
    "    print(\"No\")"
   ]
  },
  {
   "cell_type": "code",
   "execution_count": 164,
   "id": "455921f6",
   "metadata": {},
   "outputs": [
    {
     "data": {
      "text/plain": [
       "<Axes: xlabel='Pregnancies', ylabel='Age'>"
      ]
     },
     "execution_count": 164,
     "metadata": {},
     "output_type": "execute_result"
    },
    {
     "data": {
      "image/png": "[encoded data removed]",
      "text/plain": [
       "<Figure size 432x288 with 1 Axes>"
      ]
     },
     "metadata": {
      "needs_background": "light"
     },
     "output_type": "display_data"
    }
   ],
   "source": [
    "data.plot(kind='scatter',x='Pregnancies',y='Age',c='red')"
   ]
  },
  {
   "cell_type": "code",
   "execution_count": 165,
   "id": "7b3d12fd",
   "metadata": {},
   "outputs": [
    {
     "data": {
      "text/plain": [
       "<Axes: xlabel='Outcome', ylabel='Glucose'>"
      ]
     },
     "execution_count": 165,
     "metadata": {},
     "output_type": "execute_result"
    },
    {
     "data": {
      "image/png": "[encoded data removed]",
      "text/plain": [
       "<Figure size 432x288 with 1 Axes>"
      ]
     },
     "metadata": {
      "needs_background": "light"
     },
     "output_type": "display_data"
    }
   ],
   "source": [
    "sns.boxplot(x='Outcome',y='Glucose',data=data)"
   ]
  },
  {
   "cell_type": "code",
   "execution_count": 166,
   "id": "f78ae246",
   "metadata": {},
   "outputs": [
    {
     "data": {
      "text/plain": [
       "<Axes: xlabel='Outcome', ylabel='Glucose'>"
      ]
     },
     "execution_count": 166,
     "metadata": {},
     "output_type": "execute_result"
    },
    {
     "data": {
      "image/png": "[encoded data removed]",
      "text/plain": [
       "<Figure size 432x288 with 1 Axes>"
      ]
     },
     "metadata": {
      "needs_background": "light"
     },
     "output_type": "display_data"
    }
   ],
   "source": [
    "data.plot(kind='scatter',x='Outcome',y='Glucose',c='red')"
   ]
  },
  {
   "cell_type": "code",
   "execution_count": 167,
   "id": "5b655b1d",
   "metadata": {},
   "outputs": [
    {
     "name": "stdout",
     "output_type": "stream",
     "text": [
      "Mean DiabetesPedigreeFunction of diabetic women is:1.251020902437738\n",
      "Mean DiabetesPedigreeFunction of non-diabetic women is:1.1930909589707694\n"
     ]
    }
   ],
   "source": [
    "print(\"Mean DiabetesPedigreeFunction of diabetic women is:\",end='')\n",
    "diab_mean=data[data['Outcome']==1]['DiabetesPedigreeFunction'].mean()\n",
    "print(diab_mean)\n",
    "print(\"Mean DiabetesPedigreeFunction of non-diabetic women is:\",end='')\n",
    "diab_mean=data[data['Outcome']==0]['DiabetesPedigreeFunction'].mean()\n",
    "print(diab_mean)"
   ]
  },
  {
   "cell_type": "code",
   "execution_count": 168,
   "id": "8b6e258f",
   "metadata": {},
   "outputs": [
    {
     "name": "stdout",
     "output_type": "stream",
     "text": [
      "Mean age of diabetic women is:45.82583530649829\n",
      "Mean age of non-diabetic women is:22.84313725490196\n"
     ]
    }
   ],
   "source": [
    "print(\"Mean age of diabetic women is:\",end='')\n",
    "age_mean=data[data['Outcome']==1]['Age'].mean()\n",
    "print(age_mean)\n",
    "print(\"Mean age of non-diabetic women is:\",end='')\n",
    "age_mean=data[data['Outcome']==0]['Age'].mean()\n",
    "print(age_mean)"
   ]
  },
  {
   "cell_type": "code",
   "execution_count": 169,
   "id": "f51b67db",
   "metadata": {},
   "outputs": [
    {
     "name": "stdout",
     "output_type": "stream",
     "text": [
      "204\n",
      "1536\n"
     ]
    }
   ],
   "source": [
    "print((data[(data['Age'] < 50) & (data['Outcome'] == 0)]).shape[0])\n",
    "print((data[(data['Age'] > 50) & (data['Outcome'] == 1)]).shape[0])"
   ]
  },
  {
   "cell_type": "markdown",
   "id": "a898109f",
   "metadata": {},
   "source": [
    "Both the means are almost same and not much difference in count,hence we can say that diabetes doesnt depend on age"
   ]
  },
  {
   "cell_type": "code",
   "execution_count": 170,
   "id": "9ab9a8bf",
   "metadata": {},
   "outputs": [
    {
     "data": {
      "text/plain": [
       "(array([0, 1]), [Text(0, 0, '0'), Text(1, 0, '1')])"
      ]
     },
     "execution_count": 170,
     "metadata": {},
     "output_type": "execute_result"
    },
    {
     "data": {
      "image/png": "[encoded data removed]",
      "text/plain": [
       "<Figure size 432x288 with 1 Axes>"
      ]
     },
     "metadata": {
      "needs_background": "light"
     },
     "output_type": "display_data"
    }
   ],
   "source": [
    "sns.barplot(x='Outcome', y='Age', data=data)\n",
    "plt.xticks(rotation=0)"
   ]
  },
  {
   "cell_type": "code",
   "execution_count": 171,
   "id": "8ffe17a4",
   "metadata": {},
   "outputs": [
    {
     "data": {
      "image/png": "[encoded data removed]",
      "text/plain": [
       "<Figure size 432x288 with 1 Axes>"
      ]
     },
     "metadata": {
      "needs_background": "light"
     },
     "output_type": "display_data"
    }
   ],
   "source": [
    "sns.barplot(x='Insulin', y='Age', data=data)\n",
    "plt.xticks(rotation=0)\n",
    "plt.show()"
   ]
  },
  {
   "cell_type": "code",
   "execution_count": 172,
   "id": "bd8e1098",
   "metadata": {},
   "outputs": [
    {
     "data": {
      "text/plain": [
       "(array([430., 388., 413., 395., 415., 399., 375., 404., 401., 385.]),\n",
       " array([0. , 0.9, 1.8, 2.7, 3.6, 4.5, 5.4, 6.3, 7.2, 8.1, 9. ]),\n",
       " <BarContainer object of 10 artists>)"
      ]
     },
     "execution_count": 172,
     "metadata": {},
     "output_type": "execute_result"
    },
    {
     "data": {
      "image/png": "[encoded data removed]",
      "text/plain": [
       "<Figure size 432x288 with 1 Axes>"
      ]
     },
     "metadata": {
      "needs_background": "light"
     },
     "output_type": "display_data"
    }
   ],
   "source": [
    "plt.hist(data['Pregnancies'],edgecolor='white')"
   ]
  },
  {
   "cell_type": "code",
   "execution_count": 173,
   "id": "72202bdb",
   "metadata": {},
   "outputs": [
    {
     "data": {
      "text/plain": [
       "<Axes: xlabel='BloodPressure', ylabel='Age'>"
      ]
     },
     "execution_count": 173,
     "metadata": {},
     "output_type": "execute_result"
    },
    {
     "data": {
      "image/png": "[encoded data removed]",
      "text/plain": [
       "<Figure size 432x288 with 1 Axes>"
      ]
     },
     "metadata": {
      "needs_background": "light"
     },
     "output_type": "display_data"
    }
   ],
   "source": [
    "data.plot(kind='scatter',x='BloodPressure',y='Age',c='red')"
   ]
  },
  {
   "cell_type": "code",
   "execution_count": 174,
   "id": "91a6449c",
   "metadata": {},
   "outputs": [
    {
     "name": "stdout",
     "output_type": "stream",
     "text": [
      "Correlation between BMI and SkinThickness is 0.015351815807659312\n"
     ]
    }
   ],
   "source": [
    "data[col]=data['Outcome']\n",
    "print(\"Correlation between BMI and SkinThickness is \",end='')\n",
    "correlation=data['Pregnancies'].corr(data['Outcome'])\n",
    "print(correlation)"
   ]
  },
  {
   "cell_type": "code",
   "execution_count": null,
   "id": "ee5e454a",
   "metadata": {},
   "outputs": [],
   "source": []
  }
 ],
 "metadata": {
  "kernelspec": {
   "display_name": "Python 3 (ipykernel)",
   "language": "python",
   "name": "python3"
  },
  "language_info": {
   "codemirror_mode": {
    "name": "ipython",
    "version": 3
   },
   "file_extension": ".py",
   "mimetype": "text/x-python",
   "name": "python",
   "nbconvert_exporter": "python",
   "pygments_lexer": "ipython3",
   "version": "3.9.7"
  }
 },
 "nbformat": 4,
 "nbformat_minor": 5
}
