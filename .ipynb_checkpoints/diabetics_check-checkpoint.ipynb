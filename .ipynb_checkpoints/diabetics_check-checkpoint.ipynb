{
 "cells": [
  {
   "cell_type": "code",
   "execution_count": 109,
   "id": "1787f644",
   "metadata": {},
   "outputs": [],
   "source": [
    "import pandas as pd\n",
    "import numpy as np\n",
    "import matplotlib.pyplot as plt\n",
    "import scipy.stats as stats\n",
    "from scipy.stats import norm\n",
    "import seaborn as sns"
   ]
  },
  {
   "cell_type": "code",
   "execution_count": 77,
   "id": "f1212f84",
   "metadata": {
    "scrolled": true
   },
   "outputs": [
    {
     "data": {
      "text/html": [
       "<div>\n",
       "<style scoped>\n",
       "    .dataframe tbody tr th:only-of-type {\n",
       "        vertical-align: middle;\n",
       "    }\n",
       "\n",
       "    .dataframe tbody tr th {\n",
       "        vertical-align: top;\n",
       "    }\n",
       "\n",
       "    .dataframe thead th {\n",
       "        text-align: right;\n",
       "    }\n",
       "</style>\n",
       "<table border=\"1\" class=\"dataframe\">\n",
       "  <thead>\n",
       "    <tr style=\"text-align: right;\">\n",
       "      <th></th>\n",
       "      <th>Pregnancies</th>\n",
       "      <th>Glucose</th>\n",
       "      <th>BloodPressure</th>\n",
       "      <th>SkinThickness</th>\n",
       "      <th>Insulin</th>\n",
       "      <th>BMI</th>\n",
       "      <th>DiabetesPedigreeFunction</th>\n",
       "      <th>Age</th>\n",
       "      <th>Outcome</th>\n",
       "    </tr>\n",
       "  </thead>\n",
       "  <tbody>\n",
       "    <tr>\n",
       "      <th>0</th>\n",
       "      <td>3</td>\n",
       "      <td>73.251398</td>\n",
       "      <td>62.002345</td>\n",
       "      <td>22.097863</td>\n",
       "      <td>623.054647</td>\n",
       "      <td>45.451477</td>\n",
       "      <td>2.239075</td>\n",
       "      <td>26</td>\n",
       "      <td>No</td>\n",
       "    </tr>\n",
       "    <tr>\n",
       "      <th>1</th>\n",
       "      <td>1</td>\n",
       "      <td>73.873639</td>\n",
       "      <td>57.491038</td>\n",
       "      <td>50.030174</td>\n",
       "      <td>22.449430</td>\n",
       "      <td>23.947694</td>\n",
       "      <td>1.652720</td>\n",
       "      <td>55</td>\n",
       "      <td>No</td>\n",
       "    </tr>\n",
       "    <tr>\n",
       "      <th>2</th>\n",
       "      <td>7</td>\n",
       "      <td>128.397176</td>\n",
       "      <td>62.255257</td>\n",
       "      <td>86.060732</td>\n",
       "      <td>641.951033</td>\n",
       "      <td>22.184669</td>\n",
       "      <td>1.102727</td>\n",
       "      <td>38</td>\n",
       "      <td>Yes</td>\n",
       "    </tr>\n",
       "    <tr>\n",
       "      <th>3</th>\n",
       "      <td>6</td>\n",
       "      <td>194.437699</td>\n",
       "      <td>66.927564</td>\n",
       "      <td>9.181838</td>\n",
       "      <td>81.822055</td>\n",
       "      <td>53.137246</td>\n",
       "      <td>1.541017</td>\n",
       "      <td>72</td>\n",
       "      <td>Yes</td>\n",
       "    </tr>\n",
       "    <tr>\n",
       "      <th>4</th>\n",
       "      <td>14</td>\n",
       "      <td>139.709652</td>\n",
       "      <td>117.849261</td>\n",
       "      <td>37.474903</td>\n",
       "      <td>467.026374</td>\n",
       "      <td>52.323210</td>\n",
       "      <td>1.576818</td>\n",
       "      <td>76</td>\n",
       "      <td>No</td>\n",
       "    </tr>\n",
       "    <tr>\n",
       "      <th>...</th>\n",
       "      <td>...</td>\n",
       "      <td>...</td>\n",
       "      <td>...</td>\n",
       "      <td>...</td>\n",
       "      <td>...</td>\n",
       "      <td>...</td>\n",
       "      <td>...</td>\n",
       "      <td>...</td>\n",
       "      <td>...</td>\n",
       "    </tr>\n",
       "    <tr>\n",
       "      <th>4995</th>\n",
       "      <td>6</td>\n",
       "      <td>193.422129</td>\n",
       "      <td>83.987191</td>\n",
       "      <td>2.395890</td>\n",
       "      <td>251.062863</td>\n",
       "      <td>40.029874</td>\n",
       "      <td>1.685530</td>\n",
       "      <td>27</td>\n",
       "      <td>No</td>\n",
       "    </tr>\n",
       "    <tr>\n",
       "      <th>4996</th>\n",
       "      <td>15</td>\n",
       "      <td>88.238351</td>\n",
       "      <td>50.456276</td>\n",
       "      <td>98.134919</td>\n",
       "      <td>323.159165</td>\n",
       "      <td>48.276829</td>\n",
       "      <td>2.464891</td>\n",
       "      <td>51</td>\n",
       "      <td>Yes</td>\n",
       "    </tr>\n",
       "    <tr>\n",
       "      <th>4997</th>\n",
       "      <td>1</td>\n",
       "      <td>119.501369</td>\n",
       "      <td>103.258224</td>\n",
       "      <td>6.069387</td>\n",
       "      <td>384.271151</td>\n",
       "      <td>43.975297</td>\n",
       "      <td>1.269294</td>\n",
       "      <td>50</td>\n",
       "      <td>Yes</td>\n",
       "    </tr>\n",
       "    <tr>\n",
       "      <th>4998</th>\n",
       "      <td>2</td>\n",
       "      <td>103.232772</td>\n",
       "      <td>83.470715</td>\n",
       "      <td>3.896144</td>\n",
       "      <td>388.425396</td>\n",
       "      <td>51.284357</td>\n",
       "      <td>0.141528</td>\n",
       "      <td>63</td>\n",
       "      <td>No</td>\n",
       "    </tr>\n",
       "    <tr>\n",
       "      <th>4999</th>\n",
       "      <td>15</td>\n",
       "      <td>150.684917</td>\n",
       "      <td>115.521684</td>\n",
       "      <td>52.773300</td>\n",
       "      <td>39.328237</td>\n",
       "      <td>19.712962</td>\n",
       "      <td>0.309975</td>\n",
       "      <td>24</td>\n",
       "      <td>No</td>\n",
       "    </tr>\n",
       "  </tbody>\n",
       "</table>\n",
       "<p>5000 rows × 9 columns</p>\n",
       "</div>"
      ],
      "text/plain": [
       "      Pregnancies     Glucose  BloodPressure  SkinThickness     Insulin  \\\n",
       "0               3   73.251398      62.002345      22.097863  623.054647   \n",
       "1               1   73.873639      57.491038      50.030174   22.449430   \n",
       "2               7  128.397176      62.255257      86.060732  641.951033   \n",
       "3               6  194.437699      66.927564       9.181838   81.822055   \n",
       "4              14  139.709652     117.849261      37.474903  467.026374   \n",
       "...           ...         ...            ...            ...         ...   \n",
       "4995            6  193.422129      83.987191       2.395890  251.062863   \n",
       "4996           15   88.238351      50.456276      98.134919  323.159165   \n",
       "4997            1  119.501369     103.258224       6.069387  384.271151   \n",
       "4998            2  103.232772      83.470715       3.896144  388.425396   \n",
       "4999           15  150.684917     115.521684      52.773300   39.328237   \n",
       "\n",
       "            BMI  DiabetesPedigreeFunction  Age Outcome  \n",
       "0     45.451477                  2.239075   26      No  \n",
       "1     23.947694                  1.652720   55      No  \n",
       "2     22.184669                  1.102727   38     Yes  \n",
       "3     53.137246                  1.541017   72     Yes  \n",
       "4     52.323210                  1.576818   76      No  \n",
       "...         ...                       ...  ...     ...  \n",
       "4995  40.029874                  1.685530   27      No  \n",
       "4996  48.276829                  2.464891   51     Yes  \n",
       "4997  43.975297                  1.269294   50     Yes  \n",
       "4998  51.284357                  0.141528   63      No  \n",
       "4999  19.712962                  0.309975   24      No  \n",
       "\n",
       "[5000 rows x 9 columns]"
      ]
     },
     "execution_count": 77,
     "metadata": {},
     "output_type": "execute_result"
    }
   ],
   "source": [
    "data=pd.read_csv(\"C:/Users/priya/OneDrive/Documents/Diabetics_Project/diabetes_dataset.csv\")\n",
    "data"
   ]
  },
  {
   "cell_type": "code",
   "execution_count": 78,
   "id": "c3b180fd",
   "metadata": {},
   "outputs": [
    {
     "name": "stdout",
     "output_type": "stream",
     "text": [
      "Pregnancies                 0\n",
      "Glucose                     0\n",
      "BloodPressure               0\n",
      "SkinThickness               0\n",
      "Insulin                     0\n",
      "BMI                         0\n",
      "DiabetesPedigreeFunction    0\n",
      "Age                         0\n",
      "Outcome                     0\n",
      "dtype: int64\n"
     ]
    }
   ],
   "source": [
    "print(data.isnull().sum())"
   ]
  },
  {
   "cell_type": "code",
   "execution_count": 79,
   "id": "f11e77e7",
   "metadata": {},
   "outputs": [],
   "source": [
    "x=['Glucose','BloodPressure','SkinThickness','Insulin','BMI','DiabetesPedigreeFunction','Age']\n",
    "for col in x:\n",
    "    data[col]=data[col].replace(0,np.NaN)\n",
    "    mean=int(data[col].mean(skipna=True))\n",
    "    data[col]=data[col].replace(np.NaN,mean)"
   ]
  },
  {
   "cell_type": "code",
   "execution_count": 80,
   "id": "d996b979",
   "metadata": {},
   "outputs": [
    {
     "data": {
      "text/html": [
       "<div>\n",
       "<style scoped>\n",
       "    .dataframe tbody tr th:only-of-type {\n",
       "        vertical-align: middle;\n",
       "    }\n",
       "\n",
       "    .dataframe tbody tr th {\n",
       "        vertical-align: top;\n",
       "    }\n",
       "\n",
       "    .dataframe thead th {\n",
       "        text-align: right;\n",
       "    }\n",
       "</style>\n",
       "<table border=\"1\" class=\"dataframe\">\n",
       "  <thead>\n",
       "    <tr style=\"text-align: right;\">\n",
       "      <th></th>\n",
       "      <th>Pregnancies</th>\n",
       "      <th>Glucose</th>\n",
       "      <th>BloodPressure</th>\n",
       "      <th>SkinThickness</th>\n",
       "      <th>Insulin</th>\n",
       "      <th>BMI</th>\n",
       "      <th>DiabetesPedigreeFunction</th>\n",
       "      <th>Age</th>\n",
       "    </tr>\n",
       "  </thead>\n",
       "  <tbody>\n",
       "    <tr>\n",
       "      <th>count</th>\n",
       "      <td>5000.000000</td>\n",
       "      <td>5000.000000</td>\n",
       "      <td>5000.000000</td>\n",
       "      <td>5000.000000</td>\n",
       "      <td>5000.000000</td>\n",
       "      <td>5000.000000</td>\n",
       "      <td>5000.000000</td>\n",
       "      <td>5000.000000</td>\n",
       "    </tr>\n",
       "    <tr>\n",
       "      <th>mean</th>\n",
       "      <td>8.356200</td>\n",
       "      <td>135.508445</td>\n",
       "      <td>80.258655</td>\n",
       "      <td>49.202068</td>\n",
       "      <td>423.827106</td>\n",
       "      <td>37.416319</td>\n",
       "      <td>1.289979</td>\n",
       "      <td>51.184000</td>\n",
       "    </tr>\n",
       "    <tr>\n",
       "      <th>std</th>\n",
       "      <td>5.182885</td>\n",
       "      <td>37.375755</td>\n",
       "      <td>23.187119</td>\n",
       "      <td>28.532924</td>\n",
       "      <td>241.454403</td>\n",
       "      <td>12.908502</td>\n",
       "      <td>0.698123</td>\n",
       "      <td>17.745341</td>\n",
       "    </tr>\n",
       "    <tr>\n",
       "      <th>min</th>\n",
       "      <td>0.000000</td>\n",
       "      <td>70.032074</td>\n",
       "      <td>40.004794</td>\n",
       "      <td>0.053932</td>\n",
       "      <td>0.343425</td>\n",
       "      <td>15.003146</td>\n",
       "      <td>0.080225</td>\n",
       "      <td>21.000000</td>\n",
       "    </tr>\n",
       "    <tr>\n",
       "      <th>25%</th>\n",
       "      <td>4.000000</td>\n",
       "      <td>103.728689</td>\n",
       "      <td>59.973281</td>\n",
       "      <td>24.323893</td>\n",
       "      <td>215.671577</td>\n",
       "      <td>26.204644</td>\n",
       "      <td>0.692010</td>\n",
       "      <td>36.000000</td>\n",
       "    </tr>\n",
       "    <tr>\n",
       "      <th>50%</th>\n",
       "      <td>8.000000</td>\n",
       "      <td>135.312205</td>\n",
       "      <td>80.969872</td>\n",
       "      <td>48.807220</td>\n",
       "      <td>425.937511</td>\n",
       "      <td>37.580015</td>\n",
       "      <td>1.289887</td>\n",
       "      <td>51.000000</td>\n",
       "    </tr>\n",
       "    <tr>\n",
       "      <th>75%</th>\n",
       "      <td>13.000000</td>\n",
       "      <td>167.324306</td>\n",
       "      <td>100.058142</td>\n",
       "      <td>74.206352</td>\n",
       "      <td>628.822701</td>\n",
       "      <td>48.417090</td>\n",
       "      <td>1.896226</td>\n",
       "      <td>67.000000</td>\n",
       "    </tr>\n",
       "    <tr>\n",
       "      <th>max</th>\n",
       "      <td>17.000000</td>\n",
       "      <td>199.996742</td>\n",
       "      <td>119.967604</td>\n",
       "      <td>98.982301</td>\n",
       "      <td>845.703933</td>\n",
       "      <td>59.973078</td>\n",
       "      <td>2.499154</td>\n",
       "      <td>81.000000</td>\n",
       "    </tr>\n",
       "  </tbody>\n",
       "</table>\n",
       "</div>"
      ],
      "text/plain": [
       "       Pregnancies      Glucose  BloodPressure  SkinThickness      Insulin  \\\n",
       "count  5000.000000  5000.000000    5000.000000    5000.000000  5000.000000   \n",
       "mean      8.356200   135.508445      80.258655      49.202068   423.827106   \n",
       "std       5.182885    37.375755      23.187119      28.532924   241.454403   \n",
       "min       0.000000    70.032074      40.004794       0.053932     0.343425   \n",
       "25%       4.000000   103.728689      59.973281      24.323893   215.671577   \n",
       "50%       8.000000   135.312205      80.969872      48.807220   425.937511   \n",
       "75%      13.000000   167.324306     100.058142      74.206352   628.822701   \n",
       "max      17.000000   199.996742     119.967604      98.982301   845.703933   \n",
       "\n",
       "               BMI  DiabetesPedigreeFunction          Age  \n",
       "count  5000.000000               5000.000000  5000.000000  \n",
       "mean     37.416319                  1.289979    51.184000  \n",
       "std      12.908502                  0.698123    17.745341  \n",
       "min      15.003146                  0.080225    21.000000  \n",
       "25%      26.204644                  0.692010    36.000000  \n",
       "50%      37.580015                  1.289887    51.000000  \n",
       "75%      48.417090                  1.896226    67.000000  \n",
       "max      59.973078                  2.499154    81.000000  "
      ]
     },
     "execution_count": 80,
     "metadata": {},
     "output_type": "execute_result"
    }
   ],
   "source": [
    "data.describe()"
   ]
  },
  {
   "cell_type": "code",
   "execution_count": 81,
   "id": "08f38765",
   "metadata": {},
   "outputs": [
    {
     "data": {
      "text/html": [
       "<div>\n",
       "<style scoped>\n",
       "    .dataframe tbody tr th:only-of-type {\n",
       "        vertical-align: middle;\n",
       "    }\n",
       "\n",
       "    .dataframe tbody tr th {\n",
       "        vertical-align: top;\n",
       "    }\n",
       "\n",
       "    .dataframe thead th {\n",
       "        text-align: right;\n",
       "    }\n",
       "</style>\n",
       "<table border=\"1\" class=\"dataframe\">\n",
       "  <thead>\n",
       "    <tr style=\"text-align: right;\">\n",
       "      <th></th>\n",
       "      <th>Pregnancies</th>\n",
       "      <th>Glucose</th>\n",
       "      <th>BloodPressure</th>\n",
       "      <th>SkinThickness</th>\n",
       "      <th>Insulin</th>\n",
       "      <th>BMI</th>\n",
       "      <th>DiabetesPedigreeFunction</th>\n",
       "      <th>Age</th>\n",
       "      <th>Outcome</th>\n",
       "    </tr>\n",
       "  </thead>\n",
       "  <tbody>\n",
       "    <tr>\n",
       "      <th>0</th>\n",
       "      <td>3</td>\n",
       "      <td>73.251398</td>\n",
       "      <td>62.002345</td>\n",
       "      <td>22.097863</td>\n",
       "      <td>623.054647</td>\n",
       "      <td>45.451477</td>\n",
       "      <td>2.239075</td>\n",
       "      <td>26</td>\n",
       "      <td>No</td>\n",
       "    </tr>\n",
       "    <tr>\n",
       "      <th>1</th>\n",
       "      <td>1</td>\n",
       "      <td>73.873639</td>\n",
       "      <td>57.491038</td>\n",
       "      <td>50.030174</td>\n",
       "      <td>22.449430</td>\n",
       "      <td>23.947694</td>\n",
       "      <td>1.652720</td>\n",
       "      <td>55</td>\n",
       "      <td>No</td>\n",
       "    </tr>\n",
       "    <tr>\n",
       "      <th>2</th>\n",
       "      <td>7</td>\n",
       "      <td>128.397176</td>\n",
       "      <td>62.255257</td>\n",
       "      <td>86.060732</td>\n",
       "      <td>641.951033</td>\n",
       "      <td>22.184669</td>\n",
       "      <td>1.102727</td>\n",
       "      <td>38</td>\n",
       "      <td>Yes</td>\n",
       "    </tr>\n",
       "    <tr>\n",
       "      <th>3</th>\n",
       "      <td>6</td>\n",
       "      <td>194.437699</td>\n",
       "      <td>66.927564</td>\n",
       "      <td>9.181838</td>\n",
       "      <td>81.822055</td>\n",
       "      <td>53.137246</td>\n",
       "      <td>1.541017</td>\n",
       "      <td>72</td>\n",
       "      <td>Yes</td>\n",
       "    </tr>\n",
       "    <tr>\n",
       "      <th>4</th>\n",
       "      <td>14</td>\n",
       "      <td>139.709652</td>\n",
       "      <td>117.849261</td>\n",
       "      <td>37.474903</td>\n",
       "      <td>467.026374</td>\n",
       "      <td>52.323210</td>\n",
       "      <td>1.576818</td>\n",
       "      <td>76</td>\n",
       "      <td>No</td>\n",
       "    </tr>\n",
       "  </tbody>\n",
       "</table>\n",
       "</div>"
      ],
      "text/plain": [
       "   Pregnancies     Glucose  BloodPressure  SkinThickness     Insulin  \\\n",
       "0            3   73.251398      62.002345      22.097863  623.054647   \n",
       "1            1   73.873639      57.491038      50.030174   22.449430   \n",
       "2            7  128.397176      62.255257      86.060732  641.951033   \n",
       "3            6  194.437699      66.927564       9.181838   81.822055   \n",
       "4           14  139.709652     117.849261      37.474903  467.026374   \n",
       "\n",
       "         BMI  DiabetesPedigreeFunction  Age Outcome  \n",
       "0  45.451477                  2.239075   26      No  \n",
       "1  23.947694                  1.652720   55      No  \n",
       "2  22.184669                  1.102727   38     Yes  \n",
       "3  53.137246                  1.541017   72     Yes  \n",
       "4  52.323210                  1.576818   76      No  "
      ]
     },
     "execution_count": 81,
     "metadata": {},
     "output_type": "execute_result"
    }
   ],
   "source": [
    "data.head()"
   ]
  },
  {
   "cell_type": "code",
   "execution_count": 82,
   "id": "00491a0e",
   "metadata": {},
   "outputs": [
    {
     "data": {
      "text/html": [
       "<div>\n",
       "<style scoped>\n",
       "    .dataframe tbody tr th:only-of-type {\n",
       "        vertical-align: middle;\n",
       "    }\n",
       "\n",
       "    .dataframe tbody tr th {\n",
       "        vertical-align: top;\n",
       "    }\n",
       "\n",
       "    .dataframe thead th {\n",
       "        text-align: right;\n",
       "    }\n",
       "</style>\n",
       "<table border=\"1\" class=\"dataframe\">\n",
       "  <thead>\n",
       "    <tr style=\"text-align: right;\">\n",
       "      <th></th>\n",
       "      <th>Pregnancies</th>\n",
       "      <th>Glucose</th>\n",
       "      <th>BloodPressure</th>\n",
       "      <th>SkinThickness</th>\n",
       "      <th>Insulin</th>\n",
       "      <th>BMI</th>\n",
       "      <th>DiabetesPedigreeFunction</th>\n",
       "      <th>Age</th>\n",
       "      <th>Outcome</th>\n",
       "    </tr>\n",
       "  </thead>\n",
       "  <tbody>\n",
       "    <tr>\n",
       "      <th>4995</th>\n",
       "      <td>6</td>\n",
       "      <td>193.422129</td>\n",
       "      <td>83.987191</td>\n",
       "      <td>2.395890</td>\n",
       "      <td>251.062863</td>\n",
       "      <td>40.029874</td>\n",
       "      <td>1.685530</td>\n",
       "      <td>27</td>\n",
       "      <td>No</td>\n",
       "    </tr>\n",
       "    <tr>\n",
       "      <th>4996</th>\n",
       "      <td>15</td>\n",
       "      <td>88.238351</td>\n",
       "      <td>50.456276</td>\n",
       "      <td>98.134919</td>\n",
       "      <td>323.159165</td>\n",
       "      <td>48.276829</td>\n",
       "      <td>2.464891</td>\n",
       "      <td>51</td>\n",
       "      <td>Yes</td>\n",
       "    </tr>\n",
       "    <tr>\n",
       "      <th>4997</th>\n",
       "      <td>1</td>\n",
       "      <td>119.501369</td>\n",
       "      <td>103.258224</td>\n",
       "      <td>6.069387</td>\n",
       "      <td>384.271151</td>\n",
       "      <td>43.975297</td>\n",
       "      <td>1.269294</td>\n",
       "      <td>50</td>\n",
       "      <td>Yes</td>\n",
       "    </tr>\n",
       "    <tr>\n",
       "      <th>4998</th>\n",
       "      <td>2</td>\n",
       "      <td>103.232772</td>\n",
       "      <td>83.470715</td>\n",
       "      <td>3.896144</td>\n",
       "      <td>388.425396</td>\n",
       "      <td>51.284357</td>\n",
       "      <td>0.141528</td>\n",
       "      <td>63</td>\n",
       "      <td>No</td>\n",
       "    </tr>\n",
       "    <tr>\n",
       "      <th>4999</th>\n",
       "      <td>15</td>\n",
       "      <td>150.684917</td>\n",
       "      <td>115.521684</td>\n",
       "      <td>52.773300</td>\n",
       "      <td>39.328237</td>\n",
       "      <td>19.712962</td>\n",
       "      <td>0.309975</td>\n",
       "      <td>24</td>\n",
       "      <td>No</td>\n",
       "    </tr>\n",
       "  </tbody>\n",
       "</table>\n",
       "</div>"
      ],
      "text/plain": [
       "      Pregnancies     Glucose  BloodPressure  SkinThickness     Insulin  \\\n",
       "4995            6  193.422129      83.987191       2.395890  251.062863   \n",
       "4996           15   88.238351      50.456276      98.134919  323.159165   \n",
       "4997            1  119.501369     103.258224       6.069387  384.271151   \n",
       "4998            2  103.232772      83.470715       3.896144  388.425396   \n",
       "4999           15  150.684917     115.521684      52.773300   39.328237   \n",
       "\n",
       "            BMI  DiabetesPedigreeFunction  Age Outcome  \n",
       "4995  40.029874                  1.685530   27      No  \n",
       "4996  48.276829                  2.464891   51     Yes  \n",
       "4997  43.975297                  1.269294   50     Yes  \n",
       "4998  51.284357                  0.141528   63      No  \n",
       "4999  19.712962                  0.309975   24      No  "
      ]
     },
     "execution_count": 82,
     "metadata": {},
     "output_type": "execute_result"
    }
   ],
   "source": [
    "data.tail()"
   ]
  },
  {
   "cell_type": "code",
   "execution_count": 83,
   "id": "af0c114b",
   "metadata": {},
   "outputs": [
    {
     "name": "stdout",
     "output_type": "stream",
     "text": [
      "No     2501\n",
      "Yes    2499\n",
      "Name: Outcome, dtype: int64\n"
     ]
    }
   ],
   "source": [
    "count=data['Outcome'].value_counts()\n",
    "print(count)"
   ]
  },
  {
   "cell_type": "code",
   "execution_count": 84,
   "id": "2653b96f",
   "metadata": {},
   "outputs": [
    {
     "data": {
      "image/png": "[encoded data removed]",
      "text/plain": [
       "<Figure size 432x288 with 1 Axes>"
      ]
     },
     "metadata": {
      "needs_background": "light"
     },
     "output_type": "display_data"
    }
   ],
   "source": [
    "count.plot(kind='bar',color=['green','blue'])\n",
    "plt.title(\"Diabetic and non diabetic\")\n",
    "plt.xlabel(\"Diabetic status\")\n",
    "plt.ylabel(\"Count\")\n",
    "plt.xticks(rotation=0)\n",
    "for i, c in enumerate(count):\n",
    "    plt.text(i, c + 5, str(c), ha='center', va='bottom')\n",
    "plt.show()"
   ]
  },
  {
   "cell_type": "code",
   "execution_count": 85,
   "id": "4f0f6e3f",
   "metadata": {},
   "outputs": [
    {
     "name": "stdout",
     "output_type": "stream",
     "text": [
      "Average age of individuals is: 51.184\n",
      "Median age of individuals is: 51.0\n"
     ]
    }
   ],
   "source": [
    "print(\"Average age of individuals is: \",end='')\n",
    "avg_age=data['Age'].mean()\n",
    "print(avg_age)\n",
    "print(\"Median age of individuals is: \",end='')\n",
    "med_age=data['Age'].median()\n",
    "print(med_age)"
   ]
  },
  {
   "cell_type": "code",
   "execution_count": 91,
   "id": "8801e50b",
   "metadata": {},
   "outputs": [
    {
     "data": {
      "text/plain": [
       "<AxesSubplot:xlabel='Pregnancies', ylabel='Glucose'>"
      ]
     },
     "execution_count": 91,
     "metadata": {},
     "output_type": "execute_result"
    },
    {
     "data": {
      "image/png": "[encoded data removed]",
      "text/plain": [
       "<Figure size 432x288 with 1 Axes>"
      ]
     },
     "metadata": {
      "needs_background": "light"
     },
     "output_type": "display_data"
    }
   ],
   "source": [
    "data.plot(kind='scatter',x='Pregnancies',y='Glucose',c='red')"
   ]
  },
  {
   "cell_type": "code",
   "execution_count": 98,
   "id": "1ebc203c",
   "metadata": {},
   "outputs": [
    {
     "data": {
      "text/plain": [
       "Text(0.5, 0, 'Blood Pressure')"
      ]
     },
     "execution_count": 98,
     "metadata": {},
     "output_type": "execute_result"
    },
    {
     "data": {
      "image/png": "[encoded data removed]",
      "text/plain": [
       "<Figure size 432x288 with 1 Axes>"
      ]
     },
     "metadata": {
      "needs_background": "light"
     },
     "output_type": "display_data"
    }
   ],
   "source": [
    "plt.boxplot(data['BloodPressure'])\n",
    "plt.xlabel(\"Blood Pressure\")"
   ]
  },
  {
   "cell_type": "markdown",
   "id": "bc55b794",
   "metadata": {},
   "source": [
    "There are no outliers in blood pressure as there are no outliers in the boxplot"
   ]
  },
  {
   "cell_type": "code",
   "execution_count": 107,
   "id": "bb6be8b9",
   "metadata": {},
   "outputs": [
    {
     "name": "stdout",
     "output_type": "stream",
     "text": [
      "37.4163192189809\n",
      "12.908502307177821\n"
     ]
    }
   ],
   "source": [
    "mean=data['BMI'].mean()\n",
    "std=np.sqrt(data['BMI'].var())\n",
    "print(mean)\n",
    "print(std)"
   ]
  },
  {
   "cell_type": "code",
   "execution_count": 113,
   "id": "1204c632",
   "metadata": {},
   "outputs": [
    {
     "data": {
      "text/plain": [
       "[<matplotlib.lines.Line2D at 0x21abf7cb5e0>]"
      ]
     },
     "execution_count": 113,
     "metadata": {},
     "output_type": "execute_result"
    },
    {
     "data": {
      "image/png": "[encoded data removed]",
      "text/plain": [
       "<Figure size 432x288 with 1 Axes>"
      ]
     },
     "metadata": {
      "needs_background": "light"
     },
     "output_type": "display_data"
    }
   ],
   "source": [
    "f=norm.pdf(data['BMI'],mean,std)\n",
    "plt.plot(data['BMI'],f)"
   ]
  },
  {
   "cell_type": "code",
   "execution_count": 116,
   "id": "5c715cd0",
   "metadata": {},
   "outputs": [
    {
     "data": {
      "text/plain": [
       "(array([340., 309., 360., 327., 348., 322., 321., 344., 338., 343., 349.,\n",
       "        322., 343., 307., 327.]),\n",
       " array([15.00314588, 18.00114133, 20.99913678, 23.99713223, 26.99512768,\n",
       "        29.99312313, 32.99111858, 35.98911403, 38.98710948, 41.98510493,\n",
       "        44.98310038, 47.98109583, 50.97909128, 53.97708673, 56.97508218,\n",
       "        59.97307763]),\n",
       " <BarContainer object of 15 artists>)"
      ]
     },
     "execution_count": 116,
     "metadata": {},
     "output_type": "execute_result"
    },
    {
     "data": {
      "image/png": "[encoded data removed]",
      "text/plain": [
       "<Figure size 432x288 with 1 Axes>"
      ]
     },
     "metadata": {
      "needs_background": "light"
     },
     "output_type": "display_data"
    }
   ],
   "source": [
    "plt.hist(data['BMI'],color=\"skyblue\",edgecolor='white',bins=15)"
   ]
  },
  {
   "cell_type": "code",
   "execution_count": 117,
   "id": "04388322",
   "metadata": {},
   "outputs": [
    {
     "data": {
      "text/plain": [
       "<AxesSubplot:xlabel='BMI', ylabel='SkinThickness'>"
      ]
     },
     "execution_count": 117,
     "metadata": {},
     "output_type": "execute_result"
    },
    {
     "data": {
      "image/png": "[encoded data removed]",
      "text/plain": [
       "<Figure size 432x288 with 1 Axes>"
      ]
     },
     "metadata": {
      "needs_background": "light"
     },
     "output_type": "display_data"
    }
   ],
   "source": [
    "data.plot(kind='scatter',x='BMI',y='SkinThickness',c='red')"
   ]
  },
  {
   "cell_type": "code",
   "execution_count": 120,
   "id": "015de280",
   "metadata": {},
   "outputs": [
    {
     "name": "stdout",
     "output_type": "stream",
     "text": [
      "Correlation between BMI and SkinThickness is Negative\n"
     ]
    }
   ],
   "source": [
    "print(\"Correlation between BMI and SkinThickness is \",end='')\n",
    "correlation=data['BMI'].corr(data['SkinThickness'])\n",
    "if correlation>0.5:\n",
    "    print(\"Positive\")\n",
    "else:\n",
    "    print(\"Negative\")"
   ]
  },
  {
   "cell_type": "code",
   "execution_count": 123,
   "id": "2faef4f3",
   "metadata": {},
   "outputs": [
    {
     "name": "stdout",
     "output_type": "stream",
     "text": [
      "Do people with more pregnancies tend to be older?\n",
      "No\n"
     ]
    }
   ],
   "source": [
    "print(\"Do people with more pregnancies tend to be older?\")\n",
    "correlation=data['Pregnancies'].corr(data['Age'])\n",
    "if(correlation>0):\n",
    "    print(\"Yes\")\n",
    "else:\n",
    "    print(\"No\")"
   ]
  },
  {
   "cell_type": "code",
   "execution_count": 124,
   "id": "455921f6",
   "metadata": {},
   "outputs": [
    {
     "data": {
      "text/plain": [
       "<AxesSubplot:xlabel='Pregnancies', ylabel='Age'>"
      ]
     },
     "execution_count": 124,
     "metadata": {},
     "output_type": "execute_result"
    },
    {
     "data": {
      "image/png": "[encoded data removed]",
      "text/plain": [
       "<Figure size 432x288 with 1 Axes>"
      ]
     },
     "metadata": {
      "needs_background": "light"
     },
     "output_type": "display_data"
    }
   ],
   "source": [
    "data.plot(kind='scatter',x='Pregnancies',y='Age',c='red')"
   ]
  },
  {
   "cell_type": "code",
   "execution_count": 136,
   "id": "7b3d12fd",
   "metadata": {},
   "outputs": [
    {
     "data": {
      "text/plain": [
       "<AxesSubplot:xlabel='Outcome', ylabel='Glucose'>"
      ]
     },
     "execution_count": 136,
     "metadata": {},
     "output_type": "execute_result"
    },
    {
     "data": {
      "image/png": "[encoded data removed]",
      "text/plain": [
       "<Figure size 432x288 with 1 Axes>"
      ]
     },
     "metadata": {
      "needs_background": "light"
     },
     "output_type": "display_data"
    }
   ],
   "source": [
    "sns.boxplot(x='Outcome',y='Glucose',data=data)"
   ]
  },
  {
   "cell_type": "code",
   "execution_count": 134,
   "id": "f78ae246",
   "metadata": {},
   "outputs": [
    {
     "data": {
      "text/plain": [
       "<AxesSubplot:xlabel='Outcome', ylabel='Glucose'>"
      ]
     },
     "execution_count": 134,
     "metadata": {},
     "output_type": "execute_result"
    },
    {
     "data": {
      "image/png": "[encoded data removed]",
      "text/plain": [
       "<Figure size 432x288 with 1 Axes>"
      ]
     },
     "metadata": {
      "needs_background": "light"
     },
     "output_type": "display_data"
    }
   ],
   "source": [
    "data.plot(kind='scatter',x='Outcome',y='Glucose',c='red')"
   ]
  },
  {
   "cell_type": "code",
   "execution_count": 147,
   "id": "5b655b1d",
   "metadata": {},
   "outputs": [
    {
     "name": "stdout",
     "output_type": "stream",
     "text": [
      "Mean DiabetesPedigreeFunction of diabetic women is:1.2982168292845127\n",
      "Mean DiabetesPedigreeFunction of non-diabetic women is:1.2817468921767536\n"
     ]
    }
   ],
   "source": [
    "print(\"Mean DiabetesPedigreeFunction of diabetic women is:\",end='')\n",
    "diab_mean=data[data['Outcome']=='Yes']['DiabetesPedigreeFunction'].mean()\n",
    "print(diab_mean)\n",
    "print(\"Mean DiabetesPedigreeFunction of non-diabetic women is:\",end='')\n",
    "diab_mean=data[data['Outcome']=='No']['DiabetesPedigreeFunction'].mean()\n",
    "print(diab_mean)"
   ]
  },
  {
   "cell_type": "code",
   "execution_count": 156,
   "id": "8b6e258f",
   "metadata": {},
   "outputs": [
    {
     "name": "stdout",
     "output_type": "stream",
     "text": [
      "Mean age of diabetic women is:51.278511404561826\n",
      "Mean age of non-diabetic women is:51.08956417433027\n"
     ]
    }
   ],
   "source": [
    "print(\"Mean age of diabetic women is:\",end='')\n",
    "age_mean=data[data['Outcome']=='Yes']['Age'].mean()\n",
    "print(age_mean)\n",
    "print(\"Mean age of non-diabetic women is:\",end='')\n",
    "age_mean=data[data['Outcome']=='No']['Age'].mean()\n",
    "print(age_mean)"
   ]
  },
  {
   "cell_type": "code",
   "execution_count": 179,
   "id": "f51b67db",
   "metadata": {},
   "outputs": [
    {
     "name": "stdout",
     "output_type": "stream",
     "text": [
      "1169\n",
      "1289\n"
     ]
    }
   ],
   "source": [
    "print((data[(data['Age'] < 50) & (data['Outcome'] == 'Yes')]).shape[0])\n",
    "print((data[(data['Age'] > 50) & (data['Outcome'] == 'Yes')]).shape[0])"
   ]
  },
  {
   "cell_type": "markdown",
   "id": "a898109f",
   "metadata": {},
   "source": [
    "Both the means are almost same and not much difference in count,hence we can say that diabetes doesnt depend on age"
   ]
  },
  {
   "cell_type": "code",
   "execution_count": 192,
   "id": "9ab9a8bf",
   "metadata": {},
   "outputs": [
    {
     "data": {
      "text/plain": [
       "(array([0, 1]), [Text(0, 0, 'No'), Text(1, 0, 'Yes')])"
      ]
     },
     "execution_count": 192,
     "metadata": {},
     "output_type": "execute_result"
    },
    {
     "data": {
      "image/png": "[encoded data removed]",
      "text/plain": [
       "<Figure size 432x288 with 1 Axes>"
      ]
     },
     "metadata": {
      "needs_background": "light"
     },
     "output_type": "display_data"
    }
   ],
   "source": [
    "sns.barplot(x='Outcome', y='Age', data=data)\n",
    "plt.xticks(rotation=0)"
   ]
  },
  {
   "cell_type": "code",
   "execution_count": null,
   "id": "8ffe17a4",
   "metadata": {},
   "outputs": [],
   "source": [
    "sns.barplot(x='Insulin', y='Age', data=data)\n",
    "plt.xticks(rotation=0)\n",
    "plt.show()"
   ]
  },
  {
   "cell_type": "code",
   "execution_count": null,
   "id": "bd8e1098",
   "metadata": {},
   "outputs": [],
   "source": []
  },
  {
   "cell_type": "code",
   "execution_count": null,
   "id": "72202bdb",
   "metadata": {},
   "outputs": [],
   "source": []
  }
 ],
 "metadata": {
  "kernelspec": {
   "display_name": "Python 3 (ipykernel)",
   "language": "python",
   "name": "python3"
  },
  "language_info": {
   "codemirror_mode": {
    "name": "ipython",
    "version": 3
   },
   "file_extension": ".py",
   "mimetype": "text/x-python",
   "name": "python",
   "nbconvert_exporter": "python",
   "pygments_lexer": "ipython3",
   "version": "3.9.7"
  }
 },
 "nbformat": 4,
 "nbformat_minor": 5
}
